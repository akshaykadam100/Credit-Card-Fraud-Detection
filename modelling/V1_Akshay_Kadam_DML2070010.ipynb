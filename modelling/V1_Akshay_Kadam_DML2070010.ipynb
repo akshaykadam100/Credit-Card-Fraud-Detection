{
 "cells": [
  {
   "cell_type": "markdown",
   "metadata": {},
   "source": [
    "# Credit Card Fraud Detection"
   ]
  },
  {
   "cell_type": "markdown",
   "metadata": {},
   "source": [
    "## Table of Contents\n",
    "\n",
    "1. [Library Management](#header1_1)\n",
    "2. [Data Sourcing](#header1_2)\n",
    "3. [Data Cleaning](#header1_3)\n",
    "4. [Univariate / Bivariate Analysis](#header1_4)\n",
    "5. [Data Preprocesing for Modelling](#header1_5)\n",
    "6. [Data Modelling on Sampled Data](#header1_6)\n",
    "    - 1. Logistic Regression\n",
    "    - 2. Decision Trees\n",
    "    - 3. Random Forest\n",
    "    - 4. Gradient Boosting\n",
    "    - 5. XG-Boost\n",
    "7. [Random Oversampling](#header1_7)\n",
    "    - 1. Logistic Regression\n",
    "    - 2. Decision Trees\n",
    "    - 3. Random Forest\n",
    "    - 4. Gradient Boosting\n",
    "    - 5. XG-Boost\n",
    "8. [Uniform Oversampling](#header1_8)\n",
    "    - 1. Logistic Regression\n",
    "    - 2. Decision Trees\n",
    "    - 3. Random Forest\n",
    "    - 4. Gradient Boosting\n",
    "    - 5. XG-Boost\n",
    "9. [Synthetic Minority Oversampling Technique (SMOTE)](#header1_9)\n",
    "    - 1. Logistic Regression\n",
    "    - 2. Decision Trees\n",
    "    - 3. Random Forest\n",
    "    - 4. Gradient Boosting\n",
    "    - 5. XG-Boost\n",
    "10. [Adaptive Synthetic (ADASYNC)](#header1_10)\n",
    "    - 1. Logistic Regression\n",
    "    - 2. Decision Trees\n",
    "    - 3. Random Forest\n",
    "    - 4. Gradient Boosting\n",
    "    - 5. XG-Boost\n",
    "11. [Final Evaluation Metrics](#header1_11)"
   ]
  },
  {
   "cell_type": "markdown",
   "metadata": {},
   "source": [
    "# 1. <a id=\"header1_1\">Library Management</a>"
   ]
  },
  {
   "cell_type": "code",
   "execution_count": 1,
   "metadata": {},
   "outputs": [],
   "source": [
    "import warnings\n",
    "warnings.filterwarnings('ignore')"
   ]
  },
  {
   "cell_type": "code",
   "execution_count": 2,
   "metadata": {},
   "outputs": [
    {
     "name": "stdout",
     "output_type": "stream",
     "text": [
      "Requirement already satisfied: tabulate==0.8.9 in c:\\users\\aksha\\documents\\credit-card-fraud-detection\\venv\\lib\\site-packages (0.8.9)\n"
     ]
    }
   ],
   "source": [
    "!pip install tabulate==0.8.9"
   ]
  },
  {
   "cell_type": "code",
   "execution_count": 3,
   "metadata": {
    "scrolled": false
   },
   "outputs": [],
   "source": [
    "import pandas as pd\n",
    "import numpy as np\n",
    "import matplotlib.pyplot as plt\n",
    "import seaborn as sns\n",
    "from tabulate import tabulate"
   ]
  },
  {
   "cell_type": "code",
   "execution_count": 4,
   "metadata": {},
   "outputs": [],
   "source": [
    "sns.set(rc={'figure.figsize':(15,8)})"
   ]
  },
  {
   "cell_type": "code",
   "execution_count": 5,
   "metadata": {},
   "outputs": [],
   "source": [
    "# from sklearn.model_selection import train_test_split\n",
    "# from sklearn.preprocessing import MinMaxScaler\n",
    "# from sklearn.linear_model import LinearRegression\n",
    "# from sklearn.feature_selection import RFE\n",
    "# from sklearn.metrics import r2_score"
   ]
  },
  {
   "cell_type": "markdown",
   "metadata": {},
   "source": [
    "# 2. <a id=\"header1_2\">Data Sourcing</a>"
   ]
  },
  {
   "cell_type": "code",
   "execution_count": 6,
   "metadata": {},
   "outputs": [],
   "source": [
    "input_file_path = '../data/creditcard.csv'"
   ]
  },
  {
   "cell_type": "code",
   "execution_count": 7,
   "metadata": {},
   "outputs": [],
   "source": [
    "raw_data = pd.read_csv(input_file_path)"
   ]
  },
  {
   "cell_type": "code",
   "execution_count": 8,
   "metadata": {},
   "outputs": [
    {
     "data": {
      "text/html": [
       "<div>\n",
       "<style scoped>\n",
       "    .dataframe tbody tr th:only-of-type {\n",
       "        vertical-align: middle;\n",
       "    }\n",
       "\n",
       "    .dataframe tbody tr th {\n",
       "        vertical-align: top;\n",
       "    }\n",
       "\n",
       "    .dataframe thead th {\n",
       "        text-align: right;\n",
       "    }\n",
       "</style>\n",
       "<table border=\"1\" class=\"dataframe\">\n",
       "  <thead>\n",
       "    <tr style=\"text-align: right;\">\n",
       "      <th></th>\n",
       "      <th>Time</th>\n",
       "      <th>V1</th>\n",
       "      <th>V2</th>\n",
       "      <th>V3</th>\n",
       "      <th>V4</th>\n",
       "      <th>V5</th>\n",
       "      <th>V6</th>\n",
       "      <th>V7</th>\n",
       "      <th>V8</th>\n",
       "      <th>V9</th>\n",
       "      <th>...</th>\n",
       "      <th>V21</th>\n",
       "      <th>V22</th>\n",
       "      <th>V23</th>\n",
       "      <th>V24</th>\n",
       "      <th>V25</th>\n",
       "      <th>V26</th>\n",
       "      <th>V27</th>\n",
       "      <th>V28</th>\n",
       "      <th>Amount</th>\n",
       "      <th>Class</th>\n",
       "    </tr>\n",
       "  </thead>\n",
       "  <tbody>\n",
       "    <tr>\n",
       "      <th>0</th>\n",
       "      <td>0.0</td>\n",
       "      <td>-1.359807</td>\n",
       "      <td>-0.072781</td>\n",
       "      <td>2.536347</td>\n",
       "      <td>1.378155</td>\n",
       "      <td>-0.338321</td>\n",
       "      <td>0.462388</td>\n",
       "      <td>0.239599</td>\n",
       "      <td>0.098698</td>\n",
       "      <td>0.363787</td>\n",
       "      <td>...</td>\n",
       "      <td>-0.018307</td>\n",
       "      <td>0.277838</td>\n",
       "      <td>-0.110474</td>\n",
       "      <td>0.066928</td>\n",
       "      <td>0.128539</td>\n",
       "      <td>-0.189115</td>\n",
       "      <td>0.133558</td>\n",
       "      <td>-0.021053</td>\n",
       "      <td>149.62</td>\n",
       "      <td>0</td>\n",
       "    </tr>\n",
       "    <tr>\n",
       "      <th>1</th>\n",
       "      <td>0.0</td>\n",
       "      <td>1.191857</td>\n",
       "      <td>0.266151</td>\n",
       "      <td>0.166480</td>\n",
       "      <td>0.448154</td>\n",
       "      <td>0.060018</td>\n",
       "      <td>-0.082361</td>\n",
       "      <td>-0.078803</td>\n",
       "      <td>0.085102</td>\n",
       "      <td>-0.255425</td>\n",
       "      <td>...</td>\n",
       "      <td>-0.225775</td>\n",
       "      <td>-0.638672</td>\n",
       "      <td>0.101288</td>\n",
       "      <td>-0.339846</td>\n",
       "      <td>0.167170</td>\n",
       "      <td>0.125895</td>\n",
       "      <td>-0.008983</td>\n",
       "      <td>0.014724</td>\n",
       "      <td>2.69</td>\n",
       "      <td>0</td>\n",
       "    </tr>\n",
       "    <tr>\n",
       "      <th>2</th>\n",
       "      <td>1.0</td>\n",
       "      <td>-1.358354</td>\n",
       "      <td>-1.340163</td>\n",
       "      <td>1.773209</td>\n",
       "      <td>0.379780</td>\n",
       "      <td>-0.503198</td>\n",
       "      <td>1.800499</td>\n",
       "      <td>0.791461</td>\n",
       "      <td>0.247676</td>\n",
       "      <td>-1.514654</td>\n",
       "      <td>...</td>\n",
       "      <td>0.247998</td>\n",
       "      <td>0.771679</td>\n",
       "      <td>0.909412</td>\n",
       "      <td>-0.689281</td>\n",
       "      <td>-0.327642</td>\n",
       "      <td>-0.139097</td>\n",
       "      <td>-0.055353</td>\n",
       "      <td>-0.059752</td>\n",
       "      <td>378.66</td>\n",
       "      <td>0</td>\n",
       "    </tr>\n",
       "    <tr>\n",
       "      <th>3</th>\n",
       "      <td>1.0</td>\n",
       "      <td>-0.966272</td>\n",
       "      <td>-0.185226</td>\n",
       "      <td>1.792993</td>\n",
       "      <td>-0.863291</td>\n",
       "      <td>-0.010309</td>\n",
       "      <td>1.247203</td>\n",
       "      <td>0.237609</td>\n",
       "      <td>0.377436</td>\n",
       "      <td>-1.387024</td>\n",
       "      <td>...</td>\n",
       "      <td>-0.108300</td>\n",
       "      <td>0.005274</td>\n",
       "      <td>-0.190321</td>\n",
       "      <td>-1.175575</td>\n",
       "      <td>0.647376</td>\n",
       "      <td>-0.221929</td>\n",
       "      <td>0.062723</td>\n",
       "      <td>0.061458</td>\n",
       "      <td>123.50</td>\n",
       "      <td>0</td>\n",
       "    </tr>\n",
       "    <tr>\n",
       "      <th>4</th>\n",
       "      <td>2.0</td>\n",
       "      <td>-1.158233</td>\n",
       "      <td>0.877737</td>\n",
       "      <td>1.548718</td>\n",
       "      <td>0.403034</td>\n",
       "      <td>-0.407193</td>\n",
       "      <td>0.095921</td>\n",
       "      <td>0.592941</td>\n",
       "      <td>-0.270533</td>\n",
       "      <td>0.817739</td>\n",
       "      <td>...</td>\n",
       "      <td>-0.009431</td>\n",
       "      <td>0.798278</td>\n",
       "      <td>-0.137458</td>\n",
       "      <td>0.141267</td>\n",
       "      <td>-0.206010</td>\n",
       "      <td>0.502292</td>\n",
       "      <td>0.219422</td>\n",
       "      <td>0.215153</td>\n",
       "      <td>69.99</td>\n",
       "      <td>0</td>\n",
       "    </tr>\n",
       "  </tbody>\n",
       "</table>\n",
       "<p>5 rows × 31 columns</p>\n",
       "</div>"
      ],
      "text/plain": [
       "   Time        V1        V2        V3        V4        V5        V6        V7  \\\n",
       "0   0.0 -1.359807 -0.072781  2.536347  1.378155 -0.338321  0.462388  0.239599   \n",
       "1   0.0  1.191857  0.266151  0.166480  0.448154  0.060018 -0.082361 -0.078803   \n",
       "2   1.0 -1.358354 -1.340163  1.773209  0.379780 -0.503198  1.800499  0.791461   \n",
       "3   1.0 -0.966272 -0.185226  1.792993 -0.863291 -0.010309  1.247203  0.237609   \n",
       "4   2.0 -1.158233  0.877737  1.548718  0.403034 -0.407193  0.095921  0.592941   \n",
       "\n",
       "         V8        V9  ...       V21       V22       V23       V24       V25  \\\n",
       "0  0.098698  0.363787  ... -0.018307  0.277838 -0.110474  0.066928  0.128539   \n",
       "1  0.085102 -0.255425  ... -0.225775 -0.638672  0.101288 -0.339846  0.167170   \n",
       "2  0.247676 -1.514654  ...  0.247998  0.771679  0.909412 -0.689281 -0.327642   \n",
       "3  0.377436 -1.387024  ... -0.108300  0.005274 -0.190321 -1.175575  0.647376   \n",
       "4 -0.270533  0.817739  ... -0.009431  0.798278 -0.137458  0.141267 -0.206010   \n",
       "\n",
       "        V26       V27       V28  Amount  Class  \n",
       "0 -0.189115  0.133558 -0.021053  149.62      0  \n",
       "1  0.125895 -0.008983  0.014724    2.69      0  \n",
       "2 -0.139097 -0.055353 -0.059752  378.66      0  \n",
       "3 -0.221929  0.062723  0.061458  123.50      0  \n",
       "4  0.502292  0.219422  0.215153   69.99      0  \n",
       "\n",
       "[5 rows x 31 columns]"
      ]
     },
     "execution_count": 8,
     "metadata": {},
     "output_type": "execute_result"
    }
   ],
   "source": [
    "raw_data.head()"
   ]
  },
  {
   "cell_type": "markdown",
   "metadata": {},
   "source": [
    "# 3. <a id = \"header1_3\">Data Cleaning</a>"
   ]
  },
  {
   "cell_type": "code",
   "execution_count": 9,
   "metadata": {},
   "outputs": [
    {
     "name": "stdout",
     "output_type": "stream",
     "text": [
      "<class 'pandas.core.frame.DataFrame'>\n",
      "RangeIndex: 284807 entries, 0 to 284806\n",
      "Data columns (total 31 columns):\n",
      " #   Column  Non-Null Count   Dtype  \n",
      "---  ------  --------------   -----  \n",
      " 0   Time    284807 non-null  float64\n",
      " 1   V1      284807 non-null  float64\n",
      " 2   V2      284807 non-null  float64\n",
      " 3   V3      284807 non-null  float64\n",
      " 4   V4      284807 non-null  float64\n",
      " 5   V5      284807 non-null  float64\n",
      " 6   V6      284807 non-null  float64\n",
      " 7   V7      284807 non-null  float64\n",
      " 8   V8      284807 non-null  float64\n",
      " 9   V9      284807 non-null  float64\n",
      " 10  V10     284807 non-null  float64\n",
      " 11  V11     284807 non-null  float64\n",
      " 12  V12     284807 non-null  float64\n",
      " 13  V13     284807 non-null  float64\n",
      " 14  V14     284807 non-null  float64\n",
      " 15  V15     284807 non-null  float64\n",
      " 16  V16     284807 non-null  float64\n",
      " 17  V17     284807 non-null  float64\n",
      " 18  V18     284807 non-null  float64\n",
      " 19  V19     284807 non-null  float64\n",
      " 20  V20     284807 non-null  float64\n",
      " 21  V21     284807 non-null  float64\n",
      " 22  V22     284807 non-null  float64\n",
      " 23  V23     284807 non-null  float64\n",
      " 24  V24     284807 non-null  float64\n",
      " 25  V25     284807 non-null  float64\n",
      " 26  V26     284807 non-null  float64\n",
      " 27  V27     284807 non-null  float64\n",
      " 28  V28     284807 non-null  float64\n",
      " 29  Amount  284807 non-null  float64\n",
      " 30  Class   284807 non-null  int64  \n",
      "dtypes: float64(30), int64(1)\n",
      "memory usage: 67.4 MB\n"
     ]
    }
   ],
   "source": [
    "raw_data.info()"
   ]
  },
  {
   "cell_type": "markdown",
   "metadata": {},
   "source": [
    "#### From the above information, we can say that, there is no need for data cleansing as there are no null / empty / missing values."
   ]
  },
  {
   "cell_type": "markdown",
   "metadata": {},
   "source": [
    "#### Furthermore, we can proceed ahead towards variable analysis"
   ]
  },
  {
   "cell_type": "markdown",
   "metadata": {},
   "source": [
    "# 4. <a id = \"header1_4\">Univariate / Bivariate Analysis</a>"
   ]
  },
  {
   "cell_type": "markdown",
   "metadata": {},
   "source": [
    "## 4.1. Pre-Defined Fucntions for Univariate / Bivariate analysis"
   ]
  },
  {
   "cell_type": "code",
   "execution_count": 10,
   "metadata": {},
   "outputs": [],
   "source": [
    "def plot_bar_graph_from_series(series, plot_title, x_axis_label, y_axis_label, x_axis_label_rotation=0, y_axis_label_rotation=0, data_label_rotation='vertical'):\n",
    "    \"\"\"\n",
    "    Plots the Bar Graph with appropriate X / Y axis labels, graph title and data labels.\n",
    "    Arguments:\n",
    "    - series: Accepts pandas series or a column from pandas dataframe\n",
    "    - plot_title: Title to be diaplyed for graph\n",
    "    - x-axis label: Label to be displayed on X-Axis\n",
    "    - y-axis label: Label to be displayed on Y-Axis\n",
    "    - x_axis_label_rotation: Angle at which x-axis labels needs to be rotated\n",
    "    - y_axis_label_rotation: Angle at which y-axis labels needs to be rotated\n",
    "    - data_label_rotation: Angle at which data labels (above the bar) needs to be rotated    \n",
    "    \n",
    "    \"\"\"\n",
    "    graph = sns.barplot(x=series.index, y=series.values)\n",
    "    plt.title(plot_title, fontdict={'fontsize': 20})\n",
    "    plt.xlabel(x_axis_label, fontdict={'fontsize': 15})\n",
    "    plt.ylabel(y_axis_label, fontdict={'fontsize': 15})\n",
    "    graph.set_xticklabels(graph.get_xticklabels(), rotation=x_axis_label_rotation)\n",
    "    graph.set_yticklabels(graph.get_yticklabels(), rotation=y_axis_label_rotation)\n",
    "    label_deviation_above_y_axis = series.max() * 0.015\n",
    "    for index, value in enumerate(data.iteritems()):\n",
    "        graph.text(index, value[1] + label_deviation_above_y_axis, round(value[1], 2), color='black', ha=\"center\", rotation=data_label_rotation)\n",
    "    plt.show()"
   ]
  },
  {
   "cell_type": "code",
   "execution_count": 11,
   "metadata": {},
   "outputs": [],
   "source": [
    "def plot_box_graph(series, plot_type='box'):\n",
    "    \"\"\"\n",
    "    This function is use to plot Box Plot for continuous numerical variable\n",
    "    Arguments\n",
    "    - series: Accepts pandas series or a column from pandas dataframe\n",
    "    - plot_type: To plot either box plot or distribution plot\n",
    "    \"\"\"\n",
    "    if plot_type == 'box':\n",
    "        plt.figure(figsize=(16,5))\n",
    "        sns.boxplot(series)\n",
    "    elif plot_type == 'dist':\n",
    "        plt.figure(figsize=(15,8))\n",
    "        sns.distplot(raw_data.V1)\n",
    "    else:\n",
    "        raise ValueError('Plot type can be either a \"box\" (for Box Plot) or \"dist\" (for Distribution Plot)')\n",
    "    plt.title('Distribution of ' + str(series.name), fontdict={'fontsize': 20})\n",
    "    plt.xlabel(series.name, fontdict={'fontsize': 15})\n",
    "    plt.show()    "
   ]
  },
  {
   "cell_type": "code",
   "execution_count": 12,
   "metadata": {},
   "outputs": [],
   "source": [
    "def check_class_distribution_on_handling_outlier(series_name, quantile_val_low=0.0, quantile_val_high=1.0):\n",
    "    \"\"\"\n",
    "    This function id used to check the distribution of class on removing outliers.\n",
    "    This function calculates the class count falling in range between quantile_val_low & quantile_val_high\n",
    "    Arguments\n",
    "    - series_name: Name of the column on which outlier treatment is to be done\n",
    "    - quantile_val_low: Lower quantile value\n",
    "    - quantile_val_high: Hiher quantile value\n",
    "    \n",
    "    \"\"\"\n",
    "    class_count_on_removing_outlier = raw_data[(raw_data[series_name] >= raw_data[series_name].quantile(quantile_val_low)) & (raw_data[series_name] <= raw_data[series_name].quantile(quantile_val_high))].Class.value_counts()\n",
    "    class_1_drop = (raw_class_value_dist[1] - class_count_on_removing_outlier[1])/raw_class_value_dist[1] * 100\n",
    "    # print('Percentage of Class 1 values dropped after outlier treatment ==>', round(class_1_drop, 2))\n",
    "    \n",
    "    class_0_drop = (raw_class_value_dist[0] - class_count_on_removing_outlier[0])/raw_class_value_dist[0] * 100\n",
    "    # print('Percentage of Class 0 values dropped after outlier treatment ==>', round(class_0_drop, 2))\n",
    "    \n",
    "    headers = ['Class', 'Raw Data\\nValue Count', 'Data Values\\nRETAINED after\\nOutlier Treatment','Data Values\\nDROPPED after\\nOutlier Treatment','Percent Drop\\nIn Data Values']\n",
    "    table = [\n",
    "        ['Class 0', str(raw_class_value_dist[0]), str(class_count_on_removing_outlier[0]), str(raw_class_value_dist[0]-class_count_on_removing_outlier[0]), str(round(class_0_drop, 2)) + \" %\"],\n",
    "        ['Class 1', str(raw_class_value_dist[1]), str(class_count_on_removing_outlier[1]), str(raw_class_value_dist[1]-class_count_on_removing_outlier[1]), str(round(class_1_drop, 2)) + \" %\"]\n",
    "    ]\n",
    "    print(tabulate(table, headers, tablefmt=\"grid\", colalign=(\"center\", \"center\", \"center\", \"center\", \"center\")))"
   ]
  },
  {
   "cell_type": "markdown",
   "metadata": {},
   "source": [
    "## 4.2. Class"
   ]
  },
  {
   "cell_type": "markdown",
   "metadata": {},
   "source": [
    "#### While looking at the data, we see that Class column corresponds to Credit Card Fraud value. Therefore we will analyse this column first"
   ]
  },
  {
   "cell_type": "markdown",
   "metadata": {},
   "source": [
    "#### Data Interpretation\n",
    "1. Class 0 ==> No Fraud\n",
    "2. Class 1 ==> Fraud"
   ]
  },
  {
   "cell_type": "code",
   "execution_count": 13,
   "metadata": {},
   "outputs": [
    {
     "data": {
      "text/plain": [
       "0    284315\n",
       "1       492\n",
       "Name: Class, dtype: int64"
      ]
     },
     "execution_count": 13,
     "metadata": {},
     "output_type": "execute_result"
    }
   ],
   "source": [
    "raw_class_value_dist = raw_data.Class.value_counts()\n",
    "raw_class_value_dist"
   ]
  },
  {
   "cell_type": "code",
   "execution_count": 14,
   "metadata": {
    "scrolled": false
   },
   "outputs": [
    {
     "data": {
      "image/png": "[encoded data removed]",
      "text/plain": [
       "<Figure size 576x576 with 1 Axes>"
      ]
     },
     "metadata": {},
     "output_type": "display_data"
    }
   ],
   "source": [
    "plt.figure(figsize=(8,8))\n",
    "ax = sns.countplot(raw_data.Class)\n",
    "plt.title('Distribution of Class', fontdict={'fontsize': 20})\n",
    "plt.xlabel('Class', fontdict={'fontsize': 15})\n",
    "plt.ylabel('Count', fontdict={'fontsize': 15})\n",
    "for p, label in zip(ax.patches, raw_data.Class.value_counts().index):\n",
    "    ax.annotate(p.get_height(), (p.get_x()+0.3, p.get_height()*1.01))\n",
    "plt.show()"
   ]
  },
  {
   "cell_type": "code",
   "execution_count": 15,
   "metadata": {},
   "outputs": [
    {
     "name": "stdout",
     "output_type": "stream",
     "text": [
      "+---------+---------+-----------------+\n",
      "|  Class  |  Count  |  Percent Count  |\n",
      "+=========+=========+=================+\n",
      "| Class 0 | 284315  |     99.83 %     |\n",
      "+---------+---------+-----------------+\n",
      "| Class 1 |   492   |     0.17 %      |\n",
      "+---------+---------+-----------------+\n"
     ]
    }
   ],
   "source": [
    "headers = ['Class', 'Count', 'Percent Count']\n",
    "table = [\n",
    "    ['Class 0', str(raw_class_value_dist[0]), str(round(raw_class_value_dist[0]/len(raw_data)*100, 2)) + \" %\"],\n",
    "    ['Class 1', str(raw_class_value_dist[1]), str(round(raw_class_value_dist[1]/len(raw_data)*100, 2)) + \" %\"]\n",
    "]\n",
    "print(tabulate(table, headers, tablefmt=\"grid\", colalign=(\"center\", \"center\", \"center\")))"
   ]
  },
  {
   "cell_type": "markdown",
   "metadata": {},
   "source": [
    "#### We see that there is a huge data imbalance.\n",
    "#### For that, we need to drop data for outlier treatment with utmost care as the orginal datset has very less number of Class 1 values"
   ]
  },
  {
   "cell_type": "markdown",
   "metadata": {},
   "source": [
    "## 4.3. Time"
   ]
  },
  {
   "cell_type": "markdown",
   "metadata": {},
   "source": [
    "#### Going as per the explanation of this variable, we see that every value in this row is dependent on time between current value and value in the first row of this column.\n",
    "\n",
    "#### This way, it makes this varaible not an independent identified variable and hence should not be consdiered for analysis.\n",
    "\n",
    "#### Thereby, we can drop this variable"
   ]
  },
  {
   "cell_type": "code",
   "execution_count": 16,
   "metadata": {},
   "outputs": [],
   "source": [
    "raw_data = raw_data.drop(columns=['Time'])"
   ]
  },
  {
   "cell_type": "code",
   "execution_count": 17,
   "metadata": {},
   "outputs": [
    {
     "data": {
      "text/html": [
       "<div>\n",
       "<style scoped>\n",
       "    .dataframe tbody tr th:only-of-type {\n",
       "        vertical-align: middle;\n",
       "    }\n",
       "\n",
       "    .dataframe tbody tr th {\n",
       "        vertical-align: top;\n",
       "    }\n",
       "\n",
       "    .dataframe thead th {\n",
       "        text-align: right;\n",
       "    }\n",
       "</style>\n",
       "<table border=\"1\" class=\"dataframe\">\n",
       "  <thead>\n",
       "    <tr style=\"text-align: right;\">\n",
       "      <th></th>\n",
       "      <th>V1</th>\n",
       "      <th>V2</th>\n",
       "      <th>V3</th>\n",
       "      <th>V4</th>\n",
       "      <th>V5</th>\n",
       "      <th>V6</th>\n",
       "      <th>V7</th>\n",
       "      <th>V8</th>\n",
       "      <th>V9</th>\n",
       "      <th>V10</th>\n",
       "      <th>...</th>\n",
       "      <th>V21</th>\n",
       "      <th>V22</th>\n",
       "      <th>V23</th>\n",
       "      <th>V24</th>\n",
       "      <th>V25</th>\n",
       "      <th>V26</th>\n",
       "      <th>V27</th>\n",
       "      <th>V28</th>\n",
       "      <th>Amount</th>\n",
       "      <th>Class</th>\n",
       "    </tr>\n",
       "  </thead>\n",
       "  <tbody>\n",
       "    <tr>\n",
       "      <th>0</th>\n",
       "      <td>-1.359807</td>\n",
       "      <td>-0.072781</td>\n",
       "      <td>2.536347</td>\n",
       "      <td>1.378155</td>\n",
       "      <td>-0.338321</td>\n",
       "      <td>0.462388</td>\n",
       "      <td>0.239599</td>\n",
       "      <td>0.098698</td>\n",
       "      <td>0.363787</td>\n",
       "      <td>0.090794</td>\n",
       "      <td>...</td>\n",
       "      <td>-0.018307</td>\n",
       "      <td>0.277838</td>\n",
       "      <td>-0.110474</td>\n",
       "      <td>0.066928</td>\n",
       "      <td>0.128539</td>\n",
       "      <td>-0.189115</td>\n",
       "      <td>0.133558</td>\n",
       "      <td>-0.021053</td>\n",
       "      <td>149.62</td>\n",
       "      <td>0</td>\n",
       "    </tr>\n",
       "    <tr>\n",
       "      <th>1</th>\n",
       "      <td>1.191857</td>\n",
       "      <td>0.266151</td>\n",
       "      <td>0.166480</td>\n",
       "      <td>0.448154</td>\n",
       "      <td>0.060018</td>\n",
       "      <td>-0.082361</td>\n",
       "      <td>-0.078803</td>\n",
       "      <td>0.085102</td>\n",
       "      <td>-0.255425</td>\n",
       "      <td>-0.166974</td>\n",
       "      <td>...</td>\n",
       "      <td>-0.225775</td>\n",
       "      <td>-0.638672</td>\n",
       "      <td>0.101288</td>\n",
       "      <td>-0.339846</td>\n",
       "      <td>0.167170</td>\n",
       "      <td>0.125895</td>\n",
       "      <td>-0.008983</td>\n",
       "      <td>0.014724</td>\n",
       "      <td>2.69</td>\n",
       "      <td>0</td>\n",
       "    </tr>\n",
       "    <tr>\n",
       "      <th>2</th>\n",
       "      <td>-1.358354</td>\n",
       "      <td>-1.340163</td>\n",
       "      <td>1.773209</td>\n",
       "      <td>0.379780</td>\n",
       "      <td>-0.503198</td>\n",
       "      <td>1.800499</td>\n",
       "      <td>0.791461</td>\n",
       "      <td>0.247676</td>\n",
       "      <td>-1.514654</td>\n",
       "      <td>0.207643</td>\n",
       "      <td>...</td>\n",
       "      <td>0.247998</td>\n",
       "      <td>0.771679</td>\n",
       "      <td>0.909412</td>\n",
       "      <td>-0.689281</td>\n",
       "      <td>-0.327642</td>\n",
       "      <td>-0.139097</td>\n",
       "      <td>-0.055353</td>\n",
       "      <td>-0.059752</td>\n",
       "      <td>378.66</td>\n",
       "      <td>0</td>\n",
       "    </tr>\n",
       "    <tr>\n",
       "      <th>3</th>\n",
       "      <td>-0.966272</td>\n",
       "      <td>-0.185226</td>\n",
       "      <td>1.792993</td>\n",
       "      <td>-0.863291</td>\n",
       "      <td>-0.010309</td>\n",
       "      <td>1.247203</td>\n",
       "      <td>0.237609</td>\n",
       "      <td>0.377436</td>\n",
       "      <td>-1.387024</td>\n",
       "      <td>-0.054952</td>\n",
       "      <td>...</td>\n",
       "      <td>-0.108300</td>\n",
       "      <td>0.005274</td>\n",
       "      <td>-0.190321</td>\n",
       "      <td>-1.175575</td>\n",
       "      <td>0.647376</td>\n",
       "      <td>-0.221929</td>\n",
       "      <td>0.062723</td>\n",
       "      <td>0.061458</td>\n",
       "      <td>123.50</td>\n",
       "      <td>0</td>\n",
       "    </tr>\n",
       "    <tr>\n",
       "      <th>4</th>\n",
       "      <td>-1.158233</td>\n",
       "      <td>0.877737</td>\n",
       "      <td>1.548718</td>\n",
       "      <td>0.403034</td>\n",
       "      <td>-0.407193</td>\n",
       "      <td>0.095921</td>\n",
       "      <td>0.592941</td>\n",
       "      <td>-0.270533</td>\n",
       "      <td>0.817739</td>\n",
       "      <td>0.753074</td>\n",
       "      <td>...</td>\n",
       "      <td>-0.009431</td>\n",
       "      <td>0.798278</td>\n",
       "      <td>-0.137458</td>\n",
       "      <td>0.141267</td>\n",
       "      <td>-0.206010</td>\n",
       "      <td>0.502292</td>\n",
       "      <td>0.219422</td>\n",
       "      <td>0.215153</td>\n",
       "      <td>69.99</td>\n",
       "      <td>0</td>\n",
       "    </tr>\n",
       "  </tbody>\n",
       "</table>\n",
       "<p>5 rows × 30 columns</p>\n",
       "</div>"
      ],
      "text/plain": [
       "         V1        V2        V3        V4        V5        V6        V7  \\\n",
       "0 -1.359807 -0.072781  2.536347  1.378155 -0.338321  0.462388  0.239599   \n",
       "1  1.191857  0.266151  0.166480  0.448154  0.060018 -0.082361 -0.078803   \n",
       "2 -1.358354 -1.340163  1.773209  0.379780 -0.503198  1.800499  0.791461   \n",
       "3 -0.966272 -0.185226  1.792993 -0.863291 -0.010309  1.247203  0.237609   \n",
       "4 -1.158233  0.877737  1.548718  0.403034 -0.407193  0.095921  0.592941   \n",
       "\n",
       "         V8        V9       V10  ...       V21       V22       V23       V24  \\\n",
       "0  0.098698  0.363787  0.090794  ... -0.018307  0.277838 -0.110474  0.066928   \n",
       "1  0.085102 -0.255425 -0.166974  ... -0.225775 -0.638672  0.101288 -0.339846   \n",
       "2  0.247676 -1.514654  0.207643  ...  0.247998  0.771679  0.909412 -0.689281   \n",
       "3  0.377436 -1.387024 -0.054952  ... -0.108300  0.005274 -0.190321 -1.175575   \n",
       "4 -0.270533  0.817739  0.753074  ... -0.009431  0.798278 -0.137458  0.141267   \n",
       "\n",
       "        V25       V26       V27       V28  Amount  Class  \n",
       "0  0.128539 -0.189115  0.133558 -0.021053  149.62      0  \n",
       "1  0.167170  0.125895 -0.008983  0.014724    2.69      0  \n",
       "2 -0.327642 -0.139097 -0.055353 -0.059752  378.66      0  \n",
       "3  0.647376 -0.221929  0.062723  0.061458  123.50      0  \n",
       "4 -0.206010  0.502292  0.219422  0.215153   69.99      0  \n",
       "\n",
       "[5 rows x 30 columns]"
      ]
     },
     "execution_count": 17,
     "metadata": {},
     "output_type": "execute_result"
    }
   ],
   "source": [
    "raw_data.head()"
   ]
  },
  {
   "cell_type": "markdown",
   "metadata": {},
   "source": [
    "#### We see that there is a huge data imbalance.\n",
    "#### For that, we need to drop data with utmost care as the orginal datset has very less number of Class 1 values"
   ]
  },
  {
   "cell_type": "markdown",
   "metadata": {},
   "source": [
    "## 4.4. Amount"
   ]
  },
  {
   "cell_type": "code",
   "execution_count": 18,
   "metadata": {},
   "outputs": [
    {
     "data": {
      "text/plain": [
       "count    284807.000000\n",
       "mean         88.349619\n",
       "std         250.120109\n",
       "min           0.000000\n",
       "0%            0.000000\n",
       "10%           1.000000\n",
       "20%           3.570000\n",
       "30%           8.910000\n",
       "40%          13.000000\n",
       "50%          22.000000\n",
       "60%          37.000000\n",
       "70%          59.800000\n",
       "80%         100.000000\n",
       "90%         203.000000\n",
       "100%      25691.160000\n",
       "max       25691.160000\n",
       "Name: Amount, dtype: float64"
      ]
     },
     "execution_count": 18,
     "metadata": {},
     "output_type": "execute_result"
    }
   ],
   "source": [
    "raw_data.Amount.describe(percentiles=np.linspace(0, 1, 11))"
   ]
  },
  {
   "cell_type": "code",
   "execution_count": 19,
   "metadata": {},
   "outputs": [
    {
     "data": {
      "image/png": "[encoded data removed]",
      "text/plain": [
       "<Figure size 1152x360 with 1 Axes>"
      ]
     },
     "metadata": {},
     "output_type": "display_data"
    }
   ],
   "source": [
    "plot_box_graph(series=raw_data.Amount)"
   ]
  },
  {
   "cell_type": "markdown",
   "metadata": {},
   "source": [
    "#### We see that there is a huge skewness in the amount column. Lets try to map this column with respect to class variable"
   ]
  },
  {
   "cell_type": "markdown",
   "metadata": {},
   "source": [
    "#### Let's distribute the amount column in 10 different groups (i.e. from 0 to 10%, 10% to 20% etc)\n",
    "#### After this, we can visualise if there is any pattern observed between Credit Card Fraud and Amount"
   ]
  },
  {
   "cell_type": "code",
   "execution_count": 20,
   "metadata": {},
   "outputs": [],
   "source": [
    "def amount_binning(x, max_amount):\n",
    "    if x <= (0.1*max_amount):\n",
    "        return 'Upto 10%'\n",
    "    elif x <= (0.2*max_amount):\n",
    "        return '10% to 20%'\n",
    "    elif x <= (0.3*max_amount):\n",
    "        return '20% to 30%'\n",
    "    elif x <= (0.4*max_amount):\n",
    "        return '30% to 40%'\n",
    "    elif x <= (0.5*max_amount):\n",
    "        return '40% to 50%'\n",
    "    elif x <= (0.6*max_amount):\n",
    "        return '50% to 60%'\n",
    "    elif x <= (0.7*max_amount):\n",
    "        return '60% to 70%'\n",
    "    elif x <= (0.8*max_amount):\n",
    "        return '70% to 80%'\n",
    "    elif x <= (0.9*max_amount):\n",
    "        return '80% to 90%'\n",
    "    else:\n",
    "        return 'More Than 90%'"
   ]
  },
  {
   "cell_type": "code",
   "execution_count": 21,
   "metadata": {},
   "outputs": [],
   "source": [
    "raw_data['Amount_Bin'] = raw_data.Amount.apply(amount_binning, args=(max(raw_data.Amount),))"
   ]
  },
  {
   "cell_type": "code",
   "execution_count": 22,
   "metadata": {},
   "outputs": [
    {
     "data": {
      "text/plain": [
       "Amount_Bin     Class\n",
       "10% to 20%     0           360\n",
       "20% to 30%     0            36\n",
       "30% to 40%     0            10\n",
       "40% to 50%     0             2\n",
       "50% to 60%     0             1\n",
       "70% to 80%     0             2\n",
       "More Than 90%  0             1\n",
       "Upto 10%       0        283903\n",
       "               1           492\n",
       "Name: Class, dtype: int64"
      ]
     },
     "execution_count": 22,
     "metadata": {},
     "output_type": "execute_result"
    }
   ],
   "source": [
    "raw_data.groupby(['Amount_Bin', 'Class']).Class.count()"
   ]
  },
  {
   "cell_type": "markdown",
   "metadata": {},
   "source": [
    "#### Here, it is observed that all the Credit Cards Fraud that has happened are usually for smaller value. i.e. Less than 2500\n",
    "#### Said that, we see a strong connectivity between Amount and Credit Card Fraud.\n",
    "#### As the amount goes on increasing there is almost no chance for Credit Card Fraud"
   ]
  },
  {
   "cell_type": "markdown",
   "metadata": {},
   "source": [
    "##### Thereby, we will drop the newly created column of Amount_Bin"
   ]
  },
  {
   "cell_type": "code",
   "execution_count": 23,
   "metadata": {},
   "outputs": [],
   "source": [
    "raw_data = raw_data.drop(columns=['Amount_Bin'])"
   ]
  },
  {
   "cell_type": "markdown",
   "metadata": {},
   "source": [
    "#### Let's check if we can do outlier treatment wherein we drop top 1% of values (i.e. 0.99 to 1.00 quantile range)"
   ]
  },
  {
   "cell_type": "code",
   "execution_count": 24,
   "metadata": {},
   "outputs": [
    {
     "name": "stdout",
     "output_type": "stream",
     "text": [
      "+---------+---------------+---------------------+---------------------+------------------+\n",
      "|  Class  |   Raw Data    |     Data Values     |     Data Values     |   Percent Drop   |\n",
      "|         |  Value Count  |   RETAINED after    |    DROPPED after    |  In Data Values  |\n",
      "|         |               |  Outlier Treatment  |  Outlier Treatment  |                  |\n",
      "+=========+===============+=====================+=====================+==================+\n",
      "| Class 0 |    284315     |       281475        |        2840         |      1.0 %       |\n",
      "+---------+---------------+---------------------+---------------------+------------------+\n",
      "| Class 1 |      492      |         483         |          9          |      1.83 %      |\n",
      "+---------+---------------+---------------------+---------------------+------------------+\n"
     ]
    }
   ],
   "source": [
    "check_class_distribution_on_handling_outlier(series_name='Amount', quantile_val_low=0.0, quantile_val_high=0.99)"
   ]
  },
  {
   "cell_type": "markdown",
   "metadata": {},
   "source": [
    "#### Now, to drop these outliers is subjective matter\n",
    "#### Case 1: Can be dropped ad the Class 1 values are not getting altered that much.\n",
    "#### Case 2: If the outliers are removed, we might loose on a very important factor that High Amount eads to almost no Frauds. This essential bhaviour might be lost if this outliers are removed.\n",
    "\n",
    "#### for this case, we will continue to keep the outliers"
   ]
  },
  {
   "cell_type": "markdown",
   "metadata": {},
   "source": [
    "## 4.5. V1"
   ]
  },
  {
   "cell_type": "code",
   "execution_count": 25,
   "metadata": {},
   "outputs": [
    {
     "data": {
      "text/plain": [
       "count    2.848070e+05\n",
       "mean     1.168375e-15\n",
       "std      1.958696e+00\n",
       "min     -5.640751e+01\n",
       "0%      -5.640751e+01\n",
       "10%     -1.893272e+00\n",
       "20%     -1.134663e+00\n",
       "30%     -7.472943e-01\n",
       "40%     -4.267559e-01\n",
       "50%      1.810880e-02\n",
       "60%      1.035107e+00\n",
       "70%      1.224825e+00\n",
       "80%      1.694936e+00\n",
       "90%      2.015409e+00\n",
       "100%     2.454930e+00\n",
       "max      2.454930e+00\n",
       "Name: V1, dtype: float64"
      ]
     },
     "execution_count": 25,
     "metadata": {},
     "output_type": "execute_result"
    }
   ],
   "source": [
    "raw_data.V1.describe(percentiles=np.linspace(0, 1, 11))"
   ]
  },
  {
   "cell_type": "code",
   "execution_count": 26,
   "metadata": {},
   "outputs": [
    {
     "data": {
      "image/png": "[encoded data removed]",
      "text/plain": [
       "<Figure size 1152x360 with 1 Axes>"
      ]
     },
     "metadata": {},
     "output_type": "display_data"
    }
   ],
   "source": [
    "plot_box_graph(series=raw_data.V1)"
   ]
  },
  {
   "cell_type": "markdown",
   "metadata": {},
   "source": [
    "#### In the above graph, we see that the graph is highly skewed towards left side (i.e. Negative Skewed)\n",
    "#### In such cases, the better approach is dropping off outliers which is highly impacting this skewed behaviour\n",
    "#### In normal outlier detection process, we can afford to drop these rows.\n",
    "#### But since we have an imbalanced data set, we need to see if these outlier removal process is impacting class imabalance even more?\n",
    "#### Let's calculate the number of minority class instances that would have been reduced"
   ]
  },
  {
   "cell_type": "code",
   "execution_count": 27,
   "metadata": {
    "scrolled": true
   },
   "outputs": [
    {
     "name": "stdout",
     "output_type": "stream",
     "text": [
      "+---------+---------------+---------------------+---------------------+------------------+\n",
      "|  Class  |   Raw Data    |     Data Values     |     Data Values     |   Percent Drop   |\n",
      "|         |  Value Count  |   RETAINED after    |    DROPPED after    |  In Data Values  |\n",
      "|         |               |  Outlier Treatment  |  Outlier Treatment  |                  |\n",
      "+=========+===============+=====================+=====================+==================+\n",
      "| Class 0 |    284315     |       281582        |        2733         |      0.96 %      |\n",
      "+---------+---------------+---------------------+---------------------+------------------+\n",
      "| Class 1 |      492      |         376         |         116         |     23.58 %      |\n",
      "+---------+---------------+---------------------+---------------------+------------------+\n"
     ]
    }
   ],
   "source": [
    "check_class_distribution_on_handling_outlier(series_name='V1', quantile_val_low=0.01, quantile_val_high=1.00)"
   ]
  },
  {
   "cell_type": "markdown",
   "metadata": {},
   "source": [
    "#### Here, we see that number of minority class values will go down by 24% if we treat outliers and drop them and since minority class values are so low, we cannot afford to drop these many values at once.\n",
    "#### Thus we, will continue to keep these outliers"
   ]
  },
  {
   "cell_type": "markdown",
   "metadata": {},
   "source": [
    "## 4.6. V2"
   ]
  },
  {
   "cell_type": "code",
   "execution_count": 28,
   "metadata": {},
   "outputs": [
    {
     "data": {
      "text/plain": [
       "count    2.848070e+05\n",
       "mean     3.416908e-16\n",
       "std      1.651309e+00\n",
       "min     -7.271573e+01\n",
       "0%      -7.271573e+01\n",
       "10%     -1.359862e+00\n",
       "20%     -7.908142e-01\n",
       "30%     -4.363931e-01\n",
       "40%     -1.538049e-01\n",
       "50%      6.548556e-02\n",
       "60%      3.027378e-01\n",
       "70%      6.368450e-01\n",
       "80%      9.573136e-01\n",
       "90%      1.326635e+00\n",
       "100%     2.205773e+01\n",
       "max      2.205773e+01\n",
       "Name: V2, dtype: float64"
      ]
     },
     "execution_count": 28,
     "metadata": {},
     "output_type": "execute_result"
    }
   ],
   "source": [
    "raw_data.V2.describe(percentiles=np.linspace(0, 1, 11))"
   ]
  },
  {
   "cell_type": "code",
   "execution_count": 29,
   "metadata": {},
   "outputs": [
    {
     "data": {
      "image/png": "[encoded data removed]",
      "text/plain": [
       "<Figure size 1152x360 with 1 Axes>"
      ]
     },
     "metadata": {},
     "output_type": "display_data"
    }
   ],
   "source": [
    "plot_box_graph(series=raw_data.V2)"
   ]
  },
  {
   "cell_type": "markdown",
   "metadata": {},
   "source": [
    "#### In the above graph, we see that the graph is highly skewed towards left side (i.e. Negative Skewed)\n",
    "#### In such cases, the better approach is dropping off outliers which is highly impacting this skewed behaviour\n",
    "#### In normal outlier detection process, we can afford to drop these rows.\n",
    "#### But since we have an imbalanced data set, we need to see if these outlier removal process is impacting class imabalance even more?\n",
    "#### Let's calculate the number of minority class instances that would have been reduced"
   ]
  },
  {
   "cell_type": "code",
   "execution_count": 30,
   "metadata": {},
   "outputs": [
    {
     "name": "stdout",
     "output_type": "stream",
     "text": [
      "+---------+---------------+---------------------+---------------------+------------------+\n",
      "|  Class  |   Raw Data    |     Data Values     |     Data Values     |   Percent Drop   |\n",
      "|         |  Value Count  |   RETAINED after    |    DROPPED after    |  In Data Values  |\n",
      "|         |               |  Outlier Treatment  |  Outlier Treatment  |                  |\n",
      "+=========+===============+=====================+=====================+==================+\n",
      "| Class 0 |    284315     |       281472        |        2843         |      1.0 %       |\n",
      "+---------+---------------+---------------------+---------------------+------------------+\n",
      "| Class 1 |      492      |         486         |          6          |      1.22 %      |\n",
      "+---------+---------------+---------------------+---------------------+------------------+\n"
     ]
    }
   ],
   "source": [
    "check_class_distribution_on_handling_outlier(series_name='V2', quantile_val_low=0.01, quantile_val_high=1.00)"
   ]
  },
  {
   "cell_type": "markdown",
   "metadata": {},
   "source": [
    "#### Here, we see that number of minority class values will go down by 1.2%\n",
    "#### Therefore we can drop these values"
   ]
  },
  {
   "cell_type": "code",
   "execution_count": 31,
   "metadata": {},
   "outputs": [],
   "source": [
    "raw_data = raw_data[\n",
    "    (raw_data['V2'] >= raw_data['V2'].quantile(0.01)) & \n",
    "    (raw_data['V2'] <= raw_data['V2'].quantile(1.00))\n",
    "]"
   ]
  },
  {
   "cell_type": "markdown",
   "metadata": {},
   "source": [
    "## 4.7. V3"
   ]
  },
  {
   "cell_type": "code",
   "execution_count": 32,
   "metadata": {},
   "outputs": [
    {
     "data": {
      "text/plain": [
       "count    281958.000000\n",
       "mean          0.018062\n",
       "std           1.476742\n",
       "min         -33.680984\n",
       "0%          -33.680984\n",
       "10%          -1.781283\n",
       "20%          -1.150780\n",
       "30%          -0.600779\n",
       "40%          -0.187586\n",
       "50%           0.186050\n",
       "60%           0.501966\n",
       "70%           0.847060\n",
       "80%           1.217419\n",
       "90%           1.676386\n",
       "100%          9.382558\n",
       "max           9.382558\n",
       "Name: V3, dtype: float64"
      ]
     },
     "execution_count": 32,
     "metadata": {},
     "output_type": "execute_result"
    }
   ],
   "source": [
    "raw_data.V3.describe(percentiles=np.linspace(0, 1, 11))"
   ]
  },
  {
   "cell_type": "code",
   "execution_count": 33,
   "metadata": {},
   "outputs": [
    {
     "data": {
      "image/png": "[encoded data removed]",
      "text/plain": [
       "<Figure size 1152x360 with 1 Axes>"
      ]
     },
     "metadata": {},
     "output_type": "display_data"
    }
   ],
   "source": [
    "plot_box_graph(series=raw_data.V3)"
   ]
  },
  {
   "cell_type": "markdown",
   "metadata": {},
   "source": [
    "#### In the above graph, we see that the graph is slightly skewed towards left side (i.e. Negative Skewed)\n",
    "#### In such cases, the better approach is dropping off outliers which is highly impacting this skewed behaviour\n",
    "#### In normal outlier detection process, we can afford to drop these rows.\n",
    "#### But since we have an imbalanced data set, we need to see if these outlier removal process is impacting class imabalance even more?\n",
    "#### Let's calculate the number of minority class instances that would have been reduced"
   ]
  },
  {
   "cell_type": "code",
   "execution_count": 34,
   "metadata": {},
   "outputs": [
    {
     "name": "stdout",
     "output_type": "stream",
     "text": [
      "+---------+---------------+---------------------+---------------------+------------------+\n",
      "|  Class  |   Raw Data    |     Data Values     |     Data Values     |   Percent Drop   |\n",
      "|         |  Value Count  |   RETAINED after    |    DROPPED after    |  In Data Values  |\n",
      "|         |               |  Outlier Treatment  |  Outlier Treatment  |                  |\n",
      "+=========+===============+=====================+=====================+==================+\n",
      "| Class 0 |    284315     |       278963        |        5352         |      1.88 %      |\n",
      "+---------+---------------+---------------------+---------------------+------------------+\n",
      "| Class 1 |      492      |         175         |         317         |     64.43 %      |\n",
      "+---------+---------------+---------------------+---------------------+------------------+\n"
     ]
    }
   ],
   "source": [
    "check_class_distribution_on_handling_outlier(series_name='V3', quantile_val_low=0.01, quantile_val_high=1.00)"
   ]
  },
  {
   "cell_type": "markdown",
   "metadata": {},
   "source": [
    "#### Here, we see that number of minority class values will go down by 64% if we treat outliers and drop them and since minority class values are so low, we cannot afford to drop these many values at once.\n",
    "#### Thus we, will continue to keep these outliers"
   ]
  },
  {
   "cell_type": "markdown",
   "metadata": {},
   "source": [
    "## 4.8. V4"
   ]
  },
  {
   "cell_type": "code",
   "execution_count": 35,
   "metadata": {},
   "outputs": [
    {
     "data": {
      "text/plain": [
       "count    281958.000000\n",
       "mean         -0.017614\n",
       "std           1.391189\n",
       "min          -5.683171\n",
       "0%           -5.683171\n",
       "10%          -1.661756\n",
       "20%          -1.073008\n",
       "30%          -0.702556\n",
       "40%          -0.403770\n",
       "50%          -0.029077\n",
       "60%           0.275276\n",
       "70%           0.547546\n",
       "80%           0.967564\n",
       "90%           1.455796\n",
       "100%         12.114672\n",
       "max          12.114672\n",
       "Name: V4, dtype: float64"
      ]
     },
     "execution_count": 35,
     "metadata": {},
     "output_type": "execute_result"
    }
   ],
   "source": [
    "raw_data.V4.describe(percentiles=np.linspace(0, 1, 11))"
   ]
  },
  {
   "cell_type": "code",
   "execution_count": 36,
   "metadata": {},
   "outputs": [
    {
     "data": {
      "image/png": "[encoded data removed]",
      "text/plain": [
       "<Figure size 1152x360 with 1 Axes>"
      ]
     },
     "metadata": {},
     "output_type": "display_data"
    }
   ],
   "source": [
    "plot_box_graph(series=raw_data.V4)"
   ]
  },
  {
   "cell_type": "markdown",
   "metadata": {},
   "source": [
    "#### In the above graph, we see that the graph is somewhat evenly distributed\n",
    "#### So we will leave it as it is"
   ]
  },
  {
   "cell_type": "markdown",
   "metadata": {},
   "source": [
    "## 4.9. V5"
   ]
  },
  {
   "cell_type": "code",
   "execution_count": 37,
   "metadata": {},
   "outputs": [
    {
     "data": {
      "text/plain": [
       "count    281958.000000\n",
       "mean         -0.009766\n",
       "std           1.224929\n",
       "min         -31.356750\n",
       "0%          -31.356750\n",
       "10%          -1.283888\n",
       "20%          -0.851292\n",
       "30%          -0.540402\n",
       "40%          -0.288567\n",
       "50%          -0.054945\n",
       "60%           0.184108\n",
       "70%           0.451687\n",
       "80%           0.790224\n",
       "90%           1.374734\n",
       "100%         21.120137\n",
       "max          21.120137\n",
       "Name: V5, dtype: float64"
      ]
     },
     "execution_count": 37,
     "metadata": {},
     "output_type": "execute_result"
    }
   ],
   "source": [
    "raw_data.V5.describe(percentiles=np.linspace(0, 1, 11))"
   ]
  },
  {
   "cell_type": "code",
   "execution_count": 38,
   "metadata": {},
   "outputs": [
    {
     "data": {
      "image/png": "[encoded data removed]",
      "text/plain": [
       "<Figure size 1152x360 with 1 Axes>"
      ]
     },
     "metadata": {},
     "output_type": "display_data"
    }
   ],
   "source": [
    "plot_box_graph(series=raw_data.V5)"
   ]
  },
  {
   "cell_type": "markdown",
   "metadata": {},
   "source": [
    "#### In the above graph, we see that the graph is somewhat evenly distributed\n",
    "#### So we will leave it as it is"
   ]
  },
  {
   "cell_type": "markdown",
   "metadata": {},
   "source": [
    "## 4.10. V6"
   ]
  },
  {
   "cell_type": "code",
   "execution_count": 39,
   "metadata": {},
   "outputs": [
    {
     "data": {
      "text/plain": [
       "count    281958.000000\n",
       "mean          0.009256\n",
       "std           1.269325\n",
       "min         -14.352986\n",
       "0%          -14.352986\n",
       "10%          -1.156930\n",
       "20%          -0.872516\n",
       "30%          -0.664461\n",
       "40%          -0.477251\n",
       "50%          -0.273448\n",
       "60%          -0.048993\n",
       "70%           0.220781\n",
       "80%           0.623665\n",
       "90%           1.494456\n",
       "100%         21.307738\n",
       "max          21.307738\n",
       "Name: V6, dtype: float64"
      ]
     },
     "execution_count": 39,
     "metadata": {},
     "output_type": "execute_result"
    }
   ],
   "source": [
    "raw_data.V6.describe(percentiles=np.linspace(0, 1, 11))"
   ]
  },
  {
   "cell_type": "code",
   "execution_count": 40,
   "metadata": {},
   "outputs": [
    {
     "data": {
      "image/png": "[encoded data removed]",
      "text/plain": [
       "<Figure size 1152x360 with 1 Axes>"
      ]
     },
     "metadata": {},
     "output_type": "display_data"
    }
   ],
   "source": [
    "plot_box_graph(series=raw_data.V6)"
   ]
  },
  {
   "cell_type": "markdown",
   "metadata": {},
   "source": [
    "#### In the above graph, we see that the graph is highly skewed towards right side (i.e. Positive Skewed)\n",
    "#### In such cases, the better approach is dropping off outliers which is highly impacting this skewed behaviour\n",
    "#### In normal outlier detection process, we can afford to drop these rows.\n",
    "#### But since we have an imbalanced data set, we need to see if these outlier removal process is impacting class imabalance even more?\n",
    "#### Let's calculate the number of minority class instances that would have been reduced"
   ]
  },
  {
   "cell_type": "code",
   "execution_count": 41,
   "metadata": {},
   "outputs": [
    {
     "name": "stdout",
     "output_type": "stream",
     "text": [
      "+---------+---------------+---------------------+---------------------+------------------+\n",
      "|  Class  |   Raw Data    |     Data Values     |     Data Values     |   Percent Drop   |\n",
      "|         |  Value Count  |   RETAINED after    |    DROPPED after    |  In Data Values  |\n",
      "|         |               |  Outlier Treatment  |  Outlier Treatment  |                  |\n",
      "+=========+===============+=====================+=====================+==================+\n",
      "| Class 0 |    284315     |       278660        |        5655         |      1.99 %      |\n",
      "+---------+---------------+---------------------+---------------------+------------------+\n",
      "| Class 1 |      492      |         478         |         14          |      2.85 %      |\n",
      "+---------+---------------+---------------------+---------------------+------------------+\n"
     ]
    }
   ],
   "source": [
    "check_class_distribution_on_handling_outlier(series_name='V6', quantile_val_low=0.0, quantile_val_high=0.99)"
   ]
  },
  {
   "cell_type": "markdown",
   "metadata": {},
   "source": [
    "#### Here, we see that number of minority class values will go down by more than 2% if we treat outliers and drop them and since minority class values are so low, we cannot afford to drop these many values at once.\n",
    "#### Thus we, will continue to keep these outliers"
   ]
  },
  {
   "cell_type": "markdown",
   "metadata": {},
   "source": [
    "## 4.11. V7"
   ]
  },
  {
   "cell_type": "code",
   "execution_count": 42,
   "metadata": {},
   "outputs": [
    {
     "data": {
      "text/plain": [
       "count    281958.000000\n",
       "mean         -0.003810\n",
       "std           1.102978\n",
       "min         -43.557242\n",
       "0%          -43.557242\n",
       "10%          -1.065370\n",
       "20%          -0.678002\n",
       "30%          -0.423122\n",
       "40%          -0.159015\n",
       "50%           0.039027\n",
       "60%           0.210665\n",
       "70%           0.440632\n",
       "80%           0.689830\n",
       "90%           1.024571\n",
       "100%         31.527244\n",
       "max          31.527244\n",
       "Name: V7, dtype: float64"
      ]
     },
     "execution_count": 42,
     "metadata": {},
     "output_type": "execute_result"
    }
   ],
   "source": [
    "raw_data.V7.describe(percentiles=np.linspace(0, 1, 11))"
   ]
  },
  {
   "cell_type": "code",
   "execution_count": 43,
   "metadata": {},
   "outputs": [
    {
     "data": {
      "image/png": "[encoded data removed]",
      "text/plain": [
       "<Figure size 1152x360 with 1 Axes>"
      ]
     },
     "metadata": {},
     "output_type": "display_data"
    }
   ],
   "source": [
    "plot_box_graph(series=raw_data.V7)"
   ]
  },
  {
   "cell_type": "markdown",
   "metadata": {},
   "source": [
    "#### In the above graph, we see that the graph is somewhat evenly distributed\n",
    "#### So we will leave it as it is"
   ]
  },
  {
   "cell_type": "markdown",
   "metadata": {},
   "source": [
    "## 4.12. V8"
   ]
  },
  {
   "cell_type": "code",
   "execution_count": 44,
   "metadata": {},
   "outputs": [
    {
     "data": {
      "text/plain": [
       "count    281958.000000\n",
       "mean          0.004173\n",
       "std           1.186765\n",
       "min         -73.216718\n",
       "0%          -73.216718\n",
       "10%          -0.449687\n",
       "20%          -0.262673\n",
       "30%          -0.156123\n",
       "40%          -0.064929\n",
       "50%           0.022912\n",
       "60%           0.120533\n",
       "70%           0.242603\n",
       "80%           0.433234\n",
       "90%           0.765809\n",
       "100%         20.007208\n",
       "max          20.007208\n",
       "Name: V8, dtype: float64"
      ]
     },
     "execution_count": 44,
     "metadata": {},
     "output_type": "execute_result"
    }
   ],
   "source": [
    "raw_data.V8.describe(percentiles=np.linspace(0, 1, 11))"
   ]
  },
  {
   "cell_type": "code",
   "execution_count": 45,
   "metadata": {},
   "outputs": [
    {
     "data": {
      "image/png": "[encoded data removed]",
      "text/plain": [
       "<Figure size 1152x360 with 1 Axes>"
      ]
     },
     "metadata": {},
     "output_type": "display_data"
    }
   ],
   "source": [
    "plot_box_graph(series=raw_data.V8)"
   ]
  },
  {
   "cell_type": "markdown",
   "metadata": {},
   "source": [
    "#### In the above graph, we see that the graph is highly skewed towards left side (i.e. Negative Skewed)\n",
    "#### In such cases, the better approach is dropping off outliers which is highly impacting this skewed behaviour\n",
    "#### In normal outlier detection process, we can afford to drop these rows.\n",
    "#### But since we have an imbalanced data set, we need to see if these outlier removal process is impacting class imabalance even more?\n",
    "#### Let's calculate the number of minority class instances that would have been reduced"
   ]
  },
  {
   "cell_type": "code",
   "execution_count": 46,
   "metadata": {},
   "outputs": [
    {
     "name": "stdout",
     "output_type": "stream",
     "text": [
      "+---------+---------------+---------------------+---------------------+------------------+\n",
      "|  Class  |   Raw Data    |     Data Values     |     Data Values     |   Percent Drop   |\n",
      "|         |  Value Count  |   RETAINED after    |    DROPPED after    |  In Data Values  |\n",
      "|         |               |  Outlier Treatment  |  Outlier Treatment  |                  |\n",
      "+=========+===============+=====================+=====================+==================+\n",
      "| Class 0 |    284315     |       278684        |        5631         |      1.98 %      |\n",
      "+---------+---------------+---------------------+---------------------+------------------+\n",
      "| Class 1 |      492      |         454         |         38          |      7.72 %      |\n",
      "+---------+---------------+---------------------+---------------------+------------------+\n"
     ]
    }
   ],
   "source": [
    "check_class_distribution_on_handling_outlier(series_name='V8', quantile_val_low=0.01, quantile_val_high=1.00)"
   ]
  },
  {
   "cell_type": "markdown",
   "metadata": {},
   "source": [
    "#### Here, we see that number of minority class values will go down by more than 7% if we treat outliers and drop them and since minority class values are so low, we cannot afford to drop these many values at once.\n",
    "#### Thus we, will continue to keep these outliers"
   ]
  },
  {
   "cell_type": "markdown",
   "metadata": {},
   "source": [
    "## 4.13. V9"
   ]
  },
  {
   "cell_type": "code",
   "execution_count": 47,
   "metadata": {},
   "outputs": [
    {
     "data": {
      "text/plain": [
       "count    281958.000000\n",
       "mean         -0.002642\n",
       "std           1.090891\n",
       "min         -13.434066\n",
       "0%          -13.434066\n",
       "10%          -1.289818\n",
       "20%          -0.806352\n",
       "30%          -0.501160\n",
       "40%          -0.257620\n",
       "50%          -0.052279\n",
       "60%           0.174089\n",
       "70%           0.442611\n",
       "80%           0.786784\n",
       "90%           1.293297\n",
       "100%         15.594995\n",
       "max          15.594995\n",
       "Name: V9, dtype: float64"
      ]
     },
     "execution_count": 47,
     "metadata": {},
     "output_type": "execute_result"
    }
   ],
   "source": [
    "raw_data.V9.describe(percentiles=np.linspace(0, 1, 11))"
   ]
  },
  {
   "cell_type": "code",
   "execution_count": 48,
   "metadata": {},
   "outputs": [
    {
     "data": {
      "image/png": "[encoded data removed]",
      "text/plain": [
       "<Figure size 1152x360 with 1 Axes>"
      ]
     },
     "metadata": {},
     "output_type": "display_data"
    }
   ],
   "source": [
    "plot_box_graph(series=raw_data.V9)"
   ]
  },
  {
   "cell_type": "markdown",
   "metadata": {},
   "source": [
    "#### In the above graph, we see that the graph is somewhat evenly distributed\n",
    "#### So we will leave it as it is"
   ]
  },
  {
   "cell_type": "markdown",
   "metadata": {},
   "source": [
    "## 4.14. V10"
   ]
  },
  {
   "cell_type": "code",
   "execution_count": 49,
   "metadata": {},
   "outputs": [
    {
     "data": {
      "text/plain": [
       "count    281958.000000\n",
       "mean         -0.000272\n",
       "std           1.079361\n",
       "min         -24.588262\n",
       "0%          -24.588262\n",
       "10%          -1.026294\n",
       "20%          -0.662930\n",
       "30%          -0.424250\n",
       "40%          -0.247449\n",
       "50%          -0.092997\n",
       "60%           0.058647\n",
       "70%           0.267108\n",
       "80%           0.644882\n",
       "90%           1.110393\n",
       "100%         23.745136\n",
       "max          23.745136\n",
       "Name: V10, dtype: float64"
      ]
     },
     "execution_count": 49,
     "metadata": {},
     "output_type": "execute_result"
    }
   ],
   "source": [
    "raw_data.V10.describe(percentiles=np.linspace(0, 1, 11))"
   ]
  },
  {
   "cell_type": "code",
   "execution_count": 50,
   "metadata": {},
   "outputs": [
    {
     "data": {
      "image/png": "[encoded data removed]",
      "text/plain": [
       "<Figure size 1152x360 with 1 Axes>"
      ]
     },
     "metadata": {},
     "output_type": "display_data"
    }
   ],
   "source": [
    "plot_box_graph(series=raw_data.V10)"
   ]
  },
  {
   "cell_type": "markdown",
   "metadata": {},
   "source": [
    "#### In the above graph, we see that the graph is somewhat evenly distributed\n",
    "#### Let's calculate the number of minority class instances that would have been reduced on removing outliers"
   ]
  },
  {
   "cell_type": "code",
   "execution_count": 51,
   "metadata": {},
   "outputs": [
    {
     "name": "stdout",
     "output_type": "stream",
     "text": [
      "+---------+---------------+---------------------+---------------------+------------------+\n",
      "|  Class  |   Raw Data    |     Data Values     |     Data Values     |   Percent Drop   |\n",
      "|         |  Value Count  |   RETAINED after    |    DROPPED after    |  In Data Values  |\n",
      "|         |               |  Outlier Treatment  |  Outlier Treatment  |                  |\n",
      "+=========+===============+=====================+=====================+==================+\n",
      "| Class 0 |    284315     |       278654        |        5661         |      1.99 %      |\n",
      "+---------+---------------+---------------------+---------------------+------------------+\n",
      "| Class 1 |      492      |         484         |          8          |      1.63 %      |\n",
      "+---------+---------------+---------------------+---------------------+------------------+\n"
     ]
    }
   ],
   "source": [
    "check_class_distribution_on_handling_outlier(series_name='V10', quantile_val_low=0.00, quantile_val_high=0.99)"
   ]
  },
  {
   "cell_type": "markdown",
   "metadata": {},
   "source": [
    "#### Here, we see that number of minority class values will go down by less than 2%\n",
    "#### Therefore we can drop these values"
   ]
  },
  {
   "cell_type": "code",
   "execution_count": 52,
   "metadata": {},
   "outputs": [],
   "source": [
    "raw_data = raw_data[\n",
    "    (raw_data['V10'] >= raw_data['V10'].quantile(0.0)) & \n",
    "    (raw_data['V10'] <= raw_data['V10'].quantile(0.99))\n",
    "]"
   ]
  },
  {
   "cell_type": "markdown",
   "metadata": {},
   "source": [
    "## 4.15. V11"
   ]
  },
  {
   "cell_type": "code",
   "execution_count": 53,
   "metadata": {},
   "outputs": [
    {
     "data": {
      "text/plain": [
       "count    279138.000000\n",
       "mean         -0.007872\n",
       "std           1.014332\n",
       "min          -4.797473\n",
       "0%           -4.797473\n",
       "10%          -1.290238\n",
       "20%          -0.919839\n",
       "30%          -0.617339\n",
       "40%          -0.323488\n",
       "50%          -0.040333\n",
       "60%           0.258678\n",
       "70%           0.569269\n",
       "80%           0.902688\n",
       "90%           1.307149\n",
       "100%         12.018913\n",
       "max          12.018913\n",
       "Name: V11, dtype: float64"
      ]
     },
     "execution_count": 53,
     "metadata": {},
     "output_type": "execute_result"
    }
   ],
   "source": [
    "raw_data.V11.describe(percentiles=np.linspace(0, 1, 11))"
   ]
  },
  {
   "cell_type": "code",
   "execution_count": 54,
   "metadata": {},
   "outputs": [
    {
     "data": {
      "image/png": "[encoded data removed]",
      "text/plain": [
       "<Figure size 1152x360 with 1 Axes>"
      ]
     },
     "metadata": {},
     "output_type": "display_data"
    }
   ],
   "source": [
    "plot_box_graph(series=raw_data.V11)"
   ]
  },
  {
   "cell_type": "markdown",
   "metadata": {},
   "source": [
    "#### In the above graph, we see that the graph is highly skewed towards right side (i.e. Positive Skewed)\n",
    "#### In such cases, the better approach is dropping off outliers which is highly impacting this skewed behaviour\n",
    "#### In normal outlier detection process, we can afford to drop these rows.\n",
    "#### But since we have an imbalanced data set, we need to see if these outlier removal process is impacting class imabalance even more?\n",
    "#### Let's calculate the number of minority class instances that would have been reduced"
   ]
  },
  {
   "cell_type": "code",
   "execution_count": 57,
   "metadata": {},
   "outputs": [
    {
     "name": "stdout",
     "output_type": "stream",
     "text": [
      "+---------+---------------+---------------------+---------------------+------------------+\n",
      "|  Class  |   Raw Data    |     Data Values     |     Data Values     |   Percent Drop   |\n",
      "|         |  Value Count  |   RETAINED after    |    DROPPED after    |  In Data Values  |\n",
      "|         |               |  Outlier Treatment  |  Outlier Treatment  |                  |\n",
      "+=========+===============+=====================+=====================+==================+\n",
      "| Class 0 |    284315     |       276209        |        8106         |      2.85 %      |\n",
      "+---------+---------------+---------------------+---------------------+------------------+\n",
      "| Class 1 |      492      |         140         |         352         |     71.54 %      |\n",
      "+---------+---------------+---------------------+---------------------+------------------+\n"
     ]
    }
   ],
   "source": [
    "check_class_distribution_on_handling_outlier(series_name='V11', quantile_val_low=0.0, quantile_val_high=0.99)"
   ]
  },
  {
   "cell_type": "markdown",
   "metadata": {},
   "source": [
    "#### Here, we see that number of minority class values will go down by 71% if we treat outliers and drop them and since minority class values are so low, we cannot afford to drop these many values at once.\n",
    "#### Thus we, will continue to keep these outliers"
   ]
  },
  {
   "cell_type": "markdown",
   "metadata": {},
   "source": [
    "## 4.16. V12"
   ]
  },
  {
   "cell_type": "code",
   "execution_count": 58,
   "metadata": {},
   "outputs": [
    {
     "data": {
      "text/plain": [
       "count    279138.000000\n",
       "mean         -0.000842\n",
       "std           0.996788\n",
       "min         -18.683715\n",
       "0%          -18.683715\n",
       "10%          -1.144797\n",
       "20%          -0.569716\n",
       "30%          -0.270221\n",
       "40%          -0.049328\n",
       "50%           0.140218\n",
       "60%           0.324190\n",
       "70%           0.515100\n",
       "80%           0.727921\n",
       "90%           1.013370\n",
       "100%          7.848392\n",
       "max           7.848392\n",
       "Name: V12, dtype: float64"
      ]
     },
     "execution_count": 58,
     "metadata": {},
     "output_type": "execute_result"
    }
   ],
   "source": [
    "raw_data.V12.describe(percentiles=np.linspace(0, 1, 11))"
   ]
  },
  {
   "cell_type": "code",
   "execution_count": 59,
   "metadata": {},
   "outputs": [
    {
     "data": {
      "image/png": "[encoded data removed]",
      "text/plain": [
       "<Figure size 1152x360 with 1 Axes>"
      ]
     },
     "metadata": {},
     "output_type": "display_data"
    }
   ],
   "source": [
    "plot_box_graph(series=raw_data.V12)"
   ]
  },
  {
   "cell_type": "markdown",
   "metadata": {},
   "source": [
    "#### In the above graph, we see that the graph is highly skewed towards left side (i.e. Negative Skewed)\n",
    "#### In such cases, the better approach is dropping off outliers which is highly impacting this skewed behaviour\n",
    "#### In normal outlier detection process, we can afford to drop these rows.\n",
    "#### But since we have an imbalanced data set, we need to see if these outlier removal process is impacting class imabalance even more?\n",
    "#### Let's calculate the number of minority class instances that would have been reduced"
   ]
  },
  {
   "cell_type": "code",
   "execution_count": 61,
   "metadata": {},
   "outputs": [
    {
     "name": "stdout",
     "output_type": "stream",
     "text": [
      "+---------+---------------+---------------------+---------------------+------------------+\n",
      "|  Class  |   Raw Data    |     Data Values     |     Data Values     |   Percent Drop   |\n",
      "|         |  Value Count  |   RETAINED after    |    DROPPED after    |  In Data Values  |\n",
      "|         |               |  Outlier Treatment  |  Outlier Treatment  |                  |\n",
      "+=========+===============+=====================+=====================+==================+\n",
      "| Class 0 |    284315     |       276225        |        8090         |      2.85 %      |\n",
      "+---------+---------------+---------------------+---------------------+------------------+\n",
      "| Class 1 |      492      |         121         |         371         |     75.41 %      |\n",
      "+---------+---------------+---------------------+---------------------+------------------+\n"
     ]
    }
   ],
   "source": [
    "check_class_distribution_on_handling_outlier(series_name='V12', quantile_val_low=0.01, quantile_val_high=1.00)"
   ]
  },
  {
   "cell_type": "markdown",
   "metadata": {},
   "source": [
    "#### Here, we see that number of minority class values will go down by 75% if we treat outliers and drop them and since minority class values are so low, we cannot afford to drop these many values at once.\n",
    "#### Thus we, will continue to keep these outliers"
   ]
  },
  {
   "cell_type": "markdown",
   "metadata": {},
   "source": [
    "## 4.17. V13"
   ]
  },
  {
   "cell_type": "code",
   "execution_count": 62,
   "metadata": {},
   "outputs": [
    {
     "data": {
      "text/plain": [
       "count    279138.000000\n",
       "mean         -0.001205\n",
       "std           0.995431\n",
       "min          -5.791881\n",
       "0%           -5.791881\n",
       "10%          -1.282877\n",
       "20%          -0.826491\n",
       "30%          -0.498663\n",
       "40%          -0.240428\n",
       "50%          -0.014296\n",
       "60%           0.228102\n",
       "70%           0.504737\n",
       "80%           0.828888\n",
       "90%           1.251484\n",
       "100%          4.569009\n",
       "max           4.569009\n",
       "Name: V13, dtype: float64"
      ]
     },
     "execution_count": 62,
     "metadata": {},
     "output_type": "execute_result"
    }
   ],
   "source": [
    "raw_data.V13.describe(percentiles=np.linspace(0, 1, 11))"
   ]
  },
  {
   "cell_type": "code",
   "execution_count": 63,
   "metadata": {},
   "outputs": [
    {
     "data": {
      "image/png": "[encoded data removed]",
      "text/plain": [
       "<Figure size 1152x360 with 1 Axes>"
      ]
     },
     "metadata": {},
     "output_type": "display_data"
    }
   ],
   "source": [
    "plot_box_graph(series=raw_data.V13)"
   ]
  },
  {
   "cell_type": "markdown",
   "metadata": {},
   "source": [
    "#### In the above graph, we see that the graph is somewhat evenly distributed\n",
    "#### So we will leave it as it is"
   ]
  },
  {
   "cell_type": "markdown",
   "metadata": {},
   "source": [
    "## 4.18. V14"
   ]
  },
  {
   "cell_type": "code",
   "execution_count": 66,
   "metadata": {},
   "outputs": [
    {
     "data": {
      "text/plain": [
       "count    279138.000000\n",
       "mean          0.012170\n",
       "std           0.932997\n",
       "min         -19.214325\n",
       "0%          -19.214325\n",
       "10%          -0.973611\n",
       "20%          -0.551627\n",
       "30%          -0.303608\n",
       "40%          -0.113821\n",
       "50%           0.054373\n",
       "60%           0.218405\n",
       "70%           0.394280\n",
       "80%           0.607267\n",
       "90%           0.976865\n",
       "100%         10.526766\n",
       "max          10.526766\n",
       "Name: V14, dtype: float64"
      ]
     },
     "execution_count": 66,
     "metadata": {},
     "output_type": "execute_result"
    }
   ],
   "source": [
    "raw_data.V14.describe(percentiles=np.linspace(0, 1, 11))"
   ]
  },
  {
   "cell_type": "code",
   "execution_count": 67,
   "metadata": {},
   "outputs": [
    {
     "data": {
      "image/png": "[encoded data removed]",
      "text/plain": [
       "<Figure size 1152x360 with 1 Axes>"
      ]
     },
     "metadata": {},
     "output_type": "display_data"
    }
   ],
   "source": [
    "plot_box_graph(series=raw_data.V14)"
   ]
  },
  {
   "cell_type": "markdown",
   "metadata": {},
   "source": [
    "#### In the above graph, we see that the graph is highly skewed towards left side (i.e. Negative Skewed)\n",
    "#### In such cases, the better approach is dropping off outliers which is highly impacting this skewed behaviour\n",
    "#### In normal outlier detection process, we can afford to drop these rows.\n",
    "#### But since we have an imbalanced data set, we need to see if these outlier removal process is impacting class imabalance even more?\n",
    "#### Let's calculate the number of minority class instances that would have been reduced"
   ]
  },
  {
   "cell_type": "code",
   "execution_count": 68,
   "metadata": {},
   "outputs": [
    {
     "name": "stdout",
     "output_type": "stream",
     "text": [
      "+---------+---------------+---------------------+---------------------+------------------+\n",
      "|  Class  |   Raw Data    |     Data Values     |     Data Values     |   Percent Drop   |\n",
      "|         |  Value Count  |   RETAINED after    |    DROPPED after    |  In Data Values  |\n",
      "|         |               |  Outlier Treatment  |  Outlier Treatment  |                  |\n",
      "+=========+===============+=====================+=====================+==================+\n",
      "| Class 0 |    284315     |       276271        |        8044         |      2.83 %      |\n",
      "+---------+---------------+---------------------+---------------------+------------------+\n",
      "| Class 1 |      492      |         75          |         417         |     84.76 %      |\n",
      "+---------+---------------+---------------------+---------------------+------------------+\n"
     ]
    }
   ],
   "source": [
    "check_class_distribution_on_handling_outlier(series_name='V14', quantile_val_low=0.01, quantile_val_high=1.00)"
   ]
  },
  {
   "cell_type": "markdown",
   "metadata": {},
   "source": [
    "#### Here, we see that number of minority class values will go down by 85% if we treat outliers and drop them and since minority class values are so low, we cannot afford to drop these many values at once.\n",
    "#### Thus we, will continue to keep these outliers"
   ]
  },
  {
   "cell_type": "markdown",
   "metadata": {},
   "source": [
    "## 4.19. V15"
   ]
  },
  {
   "cell_type": "code",
   "execution_count": 69,
   "metadata": {},
   "outputs": [
    {
     "data": {
      "text/plain": [
       "count    279138.000000\n",
       "mean         -0.005729\n",
       "std           0.911320\n",
       "min          -4.498945\n",
       "0%           -4.498945\n",
       "10%          -1.176971\n",
       "20%          -0.752317\n",
       "30%          -0.441834\n",
       "40%          -0.193257\n",
       "50%           0.043310\n",
       "60%           0.267670\n",
       "70%           0.508997\n",
       "80%           0.789387\n",
       "90%           1.118100\n",
       "100%          4.198583\n",
       "max           4.198583\n",
       "Name: V15, dtype: float64"
      ]
     },
     "execution_count": 69,
     "metadata": {},
     "output_type": "execute_result"
    }
   ],
   "source": [
    "raw_data.V15.describe(percentiles=np.linspace(0, 1, 11))"
   ]
  },
  {
   "cell_type": "code",
   "execution_count": 70,
   "metadata": {},
   "outputs": [
    {
     "data": {
      "image/png": "[encoded data removed]",
      "text/plain": [
       "<Figure size 1152x360 with 1 Axes>"
      ]
     },
     "metadata": {},
     "output_type": "display_data"
    }
   ],
   "source": [
    "plot_box_graph(series=raw_data.V15)"
   ]
  },
  {
   "cell_type": "markdown",
   "metadata": {},
   "source": [
    "#### In the above graph, we see that the graph is somewhat evenly distributed\n",
    "#### So we will leave it as it is"
   ]
  },
  {
   "cell_type": "markdown",
   "metadata": {},
   "source": [
    "## 4.20. V16"
   ]
  },
  {
   "cell_type": "code",
   "execution_count": 71,
   "metadata": {},
   "outputs": [
    {
     "data": {
      "text/plain": [
       "count    279138.000000\n",
       "mean          0.002380\n",
       "std           0.867200\n",
       "min         -14.129855\n",
       "0%          -14.129855\n",
       "10%          -1.046173\n",
       "20%          -0.606022\n",
       "30%          -0.335743\n",
       "40%          -0.120471\n",
       "50%           0.069727\n",
       "60%           0.243562\n",
       "70%           0.427137\n",
       "80%           0.640368\n",
       "90%           0.985648\n",
       "100%          5.477283\n",
       "max           5.477283\n",
       "Name: V16, dtype: float64"
      ]
     },
     "execution_count": 71,
     "metadata": {},
     "output_type": "execute_result"
    }
   ],
   "source": [
    "raw_data.V16.describe(percentiles=np.linspace(0, 1, 11))"
   ]
  },
  {
   "cell_type": "code",
   "execution_count": 72,
   "metadata": {},
   "outputs": [
    {
     "data": {
      "image/png": "[encoded data removed]",
      "text/plain": [
       "<Figure size 1152x360 with 1 Axes>"
      ]
     },
     "metadata": {},
     "output_type": "display_data"
    }
   ],
   "source": [
    "plot_box_graph(series=raw_data.V16)"
   ]
  },
  {
   "cell_type": "markdown",
   "metadata": {},
   "source": [
    "#### In the above graph, we see that the graph is highly skewed towards left side (i.e. Negative Skewed)\n",
    "#### In such cases, the better approach is dropping off outliers which is highly impacting this skewed behaviour\n",
    "#### In normal outlier detection process, we can afford to drop these rows.\n",
    "#### But since we have an imbalanced data set, we need to see if these outlier removal process is impacting class imabalance even more?\n",
    "#### Let's calculate the number of minority class instances that would have been reduced"
   ]
  },
  {
   "cell_type": "code",
   "execution_count": 73,
   "metadata": {},
   "outputs": [
    {
     "name": "stdout",
     "output_type": "stream",
     "text": [
      "+---------+---------------+---------------------+---------------------+------------------+\n",
      "|  Class  |   Raw Data    |     Data Values     |     Data Values     |   Percent Drop   |\n",
      "|         |  Value Count  |   RETAINED after    |    DROPPED after    |  In Data Values  |\n",
      "|         |               |  Outlier Treatment  |  Outlier Treatment  |                  |\n",
      "+=========+===============+=====================+=====================+==================+\n",
      "| Class 0 |    284315     |       276177        |        8138         |      2.86 %      |\n",
      "+---------+---------------+---------------------+---------------------+------------------+\n",
      "| Class 1 |      492      |         169         |         323         |     65.65 %      |\n",
      "+---------+---------------+---------------------+---------------------+------------------+\n"
     ]
    }
   ],
   "source": [
    "check_class_distribution_on_handling_outlier(series_name='V16', quantile_val_low=0.01, quantile_val_high=1.00)"
   ]
  },
  {
   "cell_type": "markdown",
   "metadata": {},
   "source": [
    "#### Here, we see that number of minority class values will go down by 65% if we treat outliers and drop them and since minority class values are so low, we cannot afford to drop these many values at once.\n",
    "#### Thus we, will continue to keep these outliers"
   ]
  },
  {
   "cell_type": "markdown",
   "metadata": {},
   "source": [
    "## 4.21. V17"
   ]
  },
  {
   "cell_type": "code",
   "execution_count": 74,
   "metadata": {},
   "outputs": [
    {
     "data": {
      "text/plain": [
       "count    279138.000000\n",
       "mean          0.003504\n",
       "std           0.845334\n",
       "min         -25.162799\n",
       "0%          -25.162799\n",
       "10%          -0.796075\n",
       "20%          -0.570700\n",
       "30%          -0.392796\n",
       "40%          -0.232574\n",
       "50%          -0.063879\n",
       "60%           0.105970\n",
       "70%           0.297197\n",
       "80%           0.518409\n",
       "90%           0.907410\n",
       "100%          9.253526\n",
       "max           9.253526\n",
       "Name: V17, dtype: float64"
      ]
     },
     "execution_count": 74,
     "metadata": {},
     "output_type": "execute_result"
    }
   ],
   "source": [
    "raw_data.V17.describe(percentiles=np.linspace(0, 1, 11))"
   ]
  },
  {
   "cell_type": "code",
   "execution_count": 75,
   "metadata": {},
   "outputs": [
    {
     "data": {
      "image/png": "[encoded data removed]",
      "text/plain": [
       "<Figure size 1152x360 with 1 Axes>"
      ]
     },
     "metadata": {},
     "output_type": "display_data"
    }
   ],
   "source": [
    "plot_box_graph(series=raw_data.V17)"
   ]
  },
  {
   "cell_type": "markdown",
   "metadata": {},
   "source": [
    "#### In the above graph, we see that the graph is highly skewed towards left side (i.e. Negative Skewed)\n",
    "#### In such cases, the better approach is dropping off outliers which is highly impacting this skewed behaviour\n",
    "#### In normal outlier detection process, we can afford to drop these rows.\n",
    "#### But since we have an imbalanced data set, we need to see if these outlier removal process is impacting class imabalance even more?\n",
    "#### Let's calculate the number of minority class instances that would have been reduced"
   ]
  },
  {
   "cell_type": "code",
   "execution_count": 76,
   "metadata": {},
   "outputs": [
    {
     "name": "stdout",
     "output_type": "stream",
     "text": [
      "+---------+---------------+---------------------+---------------------+------------------+\n",
      "|  Class  |   Raw Data    |     Data Values     |     Data Values     |   Percent Drop   |\n",
      "|         |  Value Count  |   RETAINED after    |    DROPPED after    |  In Data Values  |\n",
      "|         |               |  Outlier Treatment  |  Outlier Treatment  |                  |\n",
      "+=========+===============+=====================+=====================+==================+\n",
      "| Class 0 |    284315     |       276227        |        8088         |      2.84 %      |\n",
      "+---------+---------------+---------------------+---------------------+------------------+\n",
      "| Class 1 |      492      |         119         |         373         |     75.81 %      |\n",
      "+---------+---------------+---------------------+---------------------+------------------+\n"
     ]
    }
   ],
   "source": [
    "check_class_distribution_on_handling_outlier(series_name='V17', quantile_val_low=0.01, quantile_val_high=1.00)"
   ]
  },
  {
   "cell_type": "markdown",
   "metadata": {},
   "source": [
    "#### Here, we see that number of minority class values will go down by 76% if we treat outliers and drop them and since minority class values are so low, we cannot afford to drop these many values at once.\n",
    "#### Thus we, will continue to keep these outliers"
   ]
  },
  {
   "cell_type": "markdown",
   "metadata": {},
   "source": [
    "## 4.22. V18"
   ]
  },
  {
   "cell_type": "code",
   "execution_count": 77,
   "metadata": {},
   "outputs": [
    {
     "data": {
      "text/plain": [
       "count    279138.000000\n",
       "mean          0.002542\n",
       "std           0.834653\n",
       "min          -9.498746\n",
       "0%           -9.498746\n",
       "10%          -0.972767\n",
       "20%          -0.622502\n",
       "30%          -0.381708\n",
       "40%          -0.181894\n",
       "50%          -0.000448\n",
       "60%           0.184176\n",
       "70%           0.384057\n",
       "80%           0.637520\n",
       "90%           1.018396\n",
       "100%          4.295648\n",
       "max           4.295648\n",
       "Name: V18, dtype: float64"
      ]
     },
     "execution_count": 77,
     "metadata": {},
     "output_type": "execute_result"
    }
   ],
   "source": [
    "raw_data.V18.describe(percentiles=np.linspace(0, 1, 11))"
   ]
  },
  {
   "cell_type": "code",
   "execution_count": 78,
   "metadata": {},
   "outputs": [
    {
     "data": {
      "image/png": "[encoded data removed]",
      "text/plain": [
       "<Figure size 1152x360 with 1 Axes>"
      ]
     },
     "metadata": {},
     "output_type": "display_data"
    }
   ],
   "source": [
    "plot_box_graph(series=raw_data.V18)"
   ]
  },
  {
   "cell_type": "markdown",
   "metadata": {},
   "source": [
    "#### In the above graph, we see that the graph is highly skewed towards left side (i.e. Negative Skewed)\n",
    "#### In such cases, the better approach is dropping off outliers which is highly impacting this skewed behaviour\n",
    "#### In normal outlier detection process, we can afford to drop these rows.\n",
    "#### But since we have an imbalanced data set, we need to see if these outlier removal process is impacting class imabalance even more?\n",
    "#### Let's calculate the number of minority class instances that would have been reduced"
   ]
  },
  {
   "cell_type": "code",
   "execution_count": 79,
   "metadata": {},
   "outputs": [
    {
     "name": "stdout",
     "output_type": "stream",
     "text": [
      "+---------+---------------+---------------------+---------------------+------------------+\n",
      "|  Class  |   Raw Data    |     Data Values     |     Data Values     |   Percent Drop   |\n",
      "|         |  Value Count  |   RETAINED after    |    DROPPED after    |  In Data Values  |\n",
      "|         |               |  Outlier Treatment  |  Outlier Treatment  |                  |\n",
      "+=========+===============+=====================+=====================+==================+\n",
      "| Class 0 |    284315     |       276082        |        8233         |      2.9 %       |\n",
      "+---------+---------------+---------------------+---------------------+------------------+\n",
      "| Class 1 |      492      |         264         |         228         |     46.34 %      |\n",
      "+---------+---------------+---------------------+---------------------+------------------+\n"
     ]
    }
   ],
   "source": [
    "check_class_distribution_on_handling_outlier(series_name='V18', quantile_val_low=0.01, quantile_val_high=1.00)"
   ]
  },
  {
   "cell_type": "markdown",
   "metadata": {},
   "source": [
    "#### Here, we see that number of minority class values will go down by 46% if we treat outliers and drop them and since minority class values are so low, we cannot afford to drop these many values at once.\n",
    "#### Thus we, will continue to keep these outliers"
   ]
  },
  {
   "cell_type": "markdown",
   "metadata": {},
   "source": [
    "## 4.23. V19"
   ]
  },
  {
   "cell_type": "code",
   "execution_count": 80,
   "metadata": {},
   "outputs": [
    {
     "data": {
      "text/plain": [
       "count    279138.000000\n",
       "mean          0.004171\n",
       "std           0.807585\n",
       "min          -4.932733\n",
       "0%           -4.932733\n",
       "10%          -0.975013\n",
       "20%          -0.573589\n",
       "30%          -0.337248\n",
       "40%          -0.156902\n",
       "50%           0.008547\n",
       "60%           0.170988\n",
       "70%           0.350946\n",
       "80%           0.586898\n",
       "90%           0.951633\n",
       "100%          5.228342\n",
       "max           5.228342\n",
       "Name: V19, dtype: float64"
      ]
     },
     "execution_count": 80,
     "metadata": {},
     "output_type": "execute_result"
    }
   ],
   "source": [
    "raw_data.V19.describe(percentiles=np.linspace(0, 1, 11))"
   ]
  },
  {
   "cell_type": "code",
   "execution_count": 81,
   "metadata": {},
   "outputs": [
    {
     "data": {
      "image/png": "[encoded data removed]",
      "text/plain": [
       "<Figure size 1152x360 with 1 Axes>"
      ]
     },
     "metadata": {},
     "output_type": "display_data"
    }
   ],
   "source": [
    "plot_box_graph(series=raw_data.V19)"
   ]
  },
  {
   "cell_type": "markdown",
   "metadata": {},
   "source": [
    "#### In the above graph, we see that the graph is somewhat evenly distributed\n",
    "#### So we will leave it as it is"
   ]
  },
  {
   "cell_type": "markdown",
   "metadata": {},
   "source": [
    "## 4.24. V20"
   ]
  },
  {
   "cell_type": "code",
   "execution_count": 82,
   "metadata": {},
   "outputs": [
    {
     "data": {
      "text/plain": [
       "count    279138.000000\n",
       "mean         -0.024691\n",
       "std           0.483121\n",
       "min         -10.637028\n",
       "0%          -10.637028\n",
       "10%          -0.384792\n",
       "20%          -0.251070\n",
       "30%          -0.179849\n",
       "40%          -0.122771\n",
       "50%          -0.065885\n",
       "60%          -0.001115\n",
       "70%           0.075157\n",
       "80%           0.180081\n",
       "90%           0.392147\n",
       "100%         16.756448\n",
       "max          16.756448\n",
       "Name: V20, dtype: float64"
      ]
     },
     "execution_count": 82,
     "metadata": {},
     "output_type": "execute_result"
    }
   ],
   "source": [
    "raw_data.V20.describe(percentiles=np.linspace(0, 1, 11))"
   ]
  },
  {
   "cell_type": "code",
   "execution_count": 83,
   "metadata": {},
   "outputs": [
    {
     "data": {
      "image/png": "[encoded data removed]",
      "text/plain": [
       "<Figure size 1152x360 with 1 Axes>"
      ]
     },
     "metadata": {},
     "output_type": "display_data"
    }
   ],
   "source": [
    "plot_box_graph(series=raw_data.V20)"
   ]
  },
  {
   "cell_type": "markdown",
   "metadata": {},
   "source": [
    "#### In the above graph, we see that the graph is highly skewed towards right side (i.e. Positive Skewed)\n",
    "#### In such cases, the better approach is dropping off outliers which is highly impacting this skewed behaviour\n",
    "#### In normal outlier detection process, we can afford to drop these rows.\n",
    "#### But since we have an imbalanced data set, we need to see if these outlier removal process is impacting class imabalance even more?\n",
    "#### Let's calculate the number of minority class instances that would have been reduced"
   ]
  },
  {
   "cell_type": "code",
   "execution_count": 85,
   "metadata": {},
   "outputs": [
    {
     "name": "stdout",
     "output_type": "stream",
     "text": [
      "+---------+---------------+---------------------+---------------------+------------------+\n",
      "|  Class  |   Raw Data    |     Data Values     |     Data Values     |   Percent Drop   |\n",
      "|         |  Value Count  |   RETAINED after    |    DROPPED after    |  In Data Values  |\n",
      "|         |               |  Outlier Treatment  |  Outlier Treatment  |                  |\n",
      "+=========+===============+=====================+=====================+==================+\n",
      "| Class 0 |    284315     |       275915        |        8400         |      2.95 %      |\n",
      "+---------+---------------+---------------------+---------------------+------------------+\n",
      "| Class 1 |      492      |         431         |         61          |      12.4 %      |\n",
      "+---------+---------------+---------------------+---------------------+------------------+\n"
     ]
    }
   ],
   "source": [
    "check_class_distribution_on_handling_outlier(series_name='V20', quantile_val_low=0.0, quantile_val_high=0.99)"
   ]
  },
  {
   "cell_type": "markdown",
   "metadata": {},
   "source": [
    "#### Here, we see that number of minority class values will go down by 12% if we treat outliers and drop them and since minority class values are so low, we cannot afford to drop these many values at once.\n",
    "#### Thus we, will continue to keep these outliers"
   ]
  },
  {
   "cell_type": "markdown",
   "metadata": {},
   "source": [
    "## 4.25. V21"
   ]
  },
  {
   "cell_type": "code",
   "execution_count": 86,
   "metadata": {},
   "outputs": [
    {
     "data": {
      "text/plain": [
       "count    279138.000000\n",
       "mean          0.002933\n",
       "std           0.695240\n",
       "min         -34.830382\n",
       "0%          -34.830382\n",
       "10%          -0.356216\n",
       "20%          -0.262175\n",
       "30%          -0.183607\n",
       "40%          -0.103548\n",
       "50%          -0.028070\n",
       "60%           0.050638\n",
       "70%           0.136625\n",
       "80%           0.232182\n",
       "90%           0.366289\n",
       "100%         27.202839\n",
       "max          27.202839\n",
       "Name: V21, dtype: float64"
      ]
     },
     "execution_count": 86,
     "metadata": {},
     "output_type": "execute_result"
    }
   ],
   "source": [
    "raw_data.V21.describe(percentiles=np.linspace(0, 1, 11))"
   ]
  },
  {
   "cell_type": "code",
   "execution_count": 87,
   "metadata": {},
   "outputs": [
    {
     "data": {
      "image/png": "[encoded data removed]",
      "text/plain": [
       "<Figure size 1152x360 with 1 Axes>"
      ]
     },
     "metadata": {},
     "output_type": "display_data"
    }
   ],
   "source": [
    "plot_box_graph(series=raw_data.V21)"
   ]
  },
  {
   "cell_type": "markdown",
   "metadata": {},
   "source": [
    "#### In the above graph, we see that the graph is slightly\n",
    "#### In such cases, the better approach is dropping off outliers which is highly impacting this skewed behaviour\n",
    "#### In normal outlier detection process, we can afford to drop these rows.\n",
    "#### But since we have an imbalanced data set, we need to see if these outlier removal process is impacting class imabalance even more?\n",
    "#### Let's calculate the number of minority class instances that would have been reduced"
   ]
  },
  {
   "cell_type": "code",
   "execution_count": 90,
   "metadata": {},
   "outputs": [
    {
     "name": "stdout",
     "output_type": "stream",
     "text": [
      "+---------+---------------+---------------------+---------------------+------------------+\n",
      "|  Class  |   Raw Data    |     Data Values     |     Data Values     |   Percent Drop   |\n",
      "|         |  Value Count  |   RETAINED after    |    DROPPED after    |  In Data Values  |\n",
      "|         |               |  Outlier Treatment  |  Outlier Treatment  |                  |\n",
      "+=========+===============+=====================+=====================+==================+\n",
      "| Class 0 |    284315     |       275899        |        8416         |      2.96 %      |\n",
      "+---------+---------------+---------------------+---------------------+------------------+\n",
      "| Class 1 |      492      |         447         |         45          |      9.15 %      |\n",
      "+---------+---------------+---------------------+---------------------+------------------+\n"
     ]
    }
   ],
   "source": [
    "check_class_distribution_on_handling_outlier(series_name='V21', quantile_val_low=0.01, quantile_val_high=1.00)"
   ]
  },
  {
   "cell_type": "markdown",
   "metadata": {},
   "source": [
    "#### Here, we see that number of minority class values will go down by 9% if we treat outliers and drop them and since minority class values are so low, we cannot afford to drop these many values at once.\n",
    "#### Thus we, will continue to keep these outliers"
   ]
  },
  {
   "cell_type": "markdown",
   "metadata": {},
   "source": [
    "## 4.26. V22"
   ]
  },
  {
   "cell_type": "code",
   "execution_count": 91,
   "metadata": {},
   "outputs": [
    {
     "data": {
      "text/plain": [
       "count    279138.000000\n",
       "mean          0.003339\n",
       "std           0.716121\n",
       "min          -8.887017\n",
       "0%           -8.887017\n",
       "10%          -0.859730\n",
       "20%          -0.637478\n",
       "30%          -0.430305\n",
       "40%          -0.198548\n",
       "50%           0.008369\n",
       "60%           0.201063\n",
       "70%           0.412008\n",
       "80%           0.647589\n",
       "90%           0.913037\n",
       "100%         10.503090\n",
       "max          10.503090\n",
       "Name: V22, dtype: float64"
      ]
     },
     "execution_count": 91,
     "metadata": {},
     "output_type": "execute_result"
    }
   ],
   "source": [
    "raw_data.V22.describe(percentiles=np.linspace(0, 1, 11))"
   ]
  },
  {
   "cell_type": "code",
   "execution_count": 92,
   "metadata": {},
   "outputs": [
    {
     "data": {
      "image/png": "[encoded data removed]",
      "text/plain": [
       "<Figure size 1152x360 with 1 Axes>"
      ]
     },
     "metadata": {},
     "output_type": "display_data"
    }
   ],
   "source": [
    "plot_box_graph(series=raw_data.V22)"
   ]
  },
  {
   "cell_type": "markdown",
   "metadata": {},
   "source": [
    "#### In the above graph, we see that the graph is slightly skewed towards both the sides\n",
    "#### In such cases, the better approach is dropping off outliers which is highly impacting this skewed behaviour\n",
    "#### In normal outlier detection process, we can afford to drop these rows.\n",
    "#### But since we have an imbalanced data set, we need to see if these outlier removal process is impacting class imabalance even more?\n",
    "#### Let's calculate the number of minority class instances that would have been reduced"
   ]
  },
  {
   "cell_type": "code",
   "execution_count": 97,
   "metadata": {},
   "outputs": [
    {
     "name": "stdout",
     "output_type": "stream",
     "text": [
      "+---------+---------------+---------------------+---------------------+------------------+\n",
      "|  Class  |   Raw Data    |     Data Values     |     Data Values     |   Percent Drop   |\n",
      "|         |  Value Count  |   RETAINED after    |    DROPPED after    |  In Data Values  |\n",
      "|         |               |  Outlier Treatment  |  Outlier Treatment  |                  |\n",
      "+=========+===============+=====================+=====================+==================+\n",
      "| Class 0 |    284315     |       275898        |        8417         |      2.96 %      |\n",
      "+---------+---------------+---------------------+---------------------+------------------+\n",
      "| Class 1 |      492      |         448         |         44          |      8.94 %      |\n",
      "+---------+---------------+---------------------+---------------------+------------------+\n"
     ]
    }
   ],
   "source": [
    "check_class_distribution_on_handling_outlier(series_name='V22', quantile_val_low=0.005, quantile_val_high=0.995)"
   ]
  },
  {
   "cell_type": "markdown",
   "metadata": {},
   "source": [
    "#### Here, we see that number of minority class values will go down by 9% if we treat outliers and drop them and since minority class values are so low, we cannot afford to drop these many values at once.\n",
    "#### Thus we, will continue to keep these outliers"
   ]
  },
  {
   "cell_type": "markdown",
   "metadata": {},
   "source": [
    "## 4.27. V23"
   ]
  },
  {
   "cell_type": "code",
   "execution_count": 98,
   "metadata": {},
   "outputs": [
    {
     "data": {
      "text/plain": [
       "count    279138.000000\n",
       "mean         -0.001188\n",
       "std           0.438847\n",
       "min         -23.222016\n",
       "0%          -23.222016\n",
       "10%          -0.320417\n",
       "20%          -0.200521\n",
       "30%          -0.124658\n",
       "40%          -0.064591\n",
       "50%          -0.011388\n",
       "60%           0.043751\n",
       "70%           0.107243\n",
       "80%           0.190211\n",
       "90%           0.333047\n",
       "100%          7.441508\n",
       "max           7.441508\n",
       "Name: V23, dtype: float64"
      ]
     },
     "execution_count": 98,
     "metadata": {},
     "output_type": "execute_result"
    }
   ],
   "source": [
    "raw_data.V23.describe(percentiles=np.linspace(0, 1, 11))"
   ]
  },
  {
   "cell_type": "code",
   "execution_count": 99,
   "metadata": {},
   "outputs": [
    {
     "data": {
      "image/png": "[encoded data removed]",
      "text/plain": [
       "<Figure size 1152x360 with 1 Axes>"
      ]
     },
     "metadata": {},
     "output_type": "display_data"
    }
   ],
   "source": [
    "plot_box_graph(series=raw_data.V23)"
   ]
  },
  {
   "cell_type": "markdown",
   "metadata": {},
   "source": [
    "#### In the above graph, we see that the graph is highly skewed towards left side (i.e. Negative Skewed)\n",
    "#### In such cases, the better approach is dropping off outliers which is highly impacting this skewed behaviour\n",
    "#### In normal outlier detection process, we can afford to drop these rows.\n",
    "#### But since we have an imbalanced data set, we need to see if these outlier removal process is impacting class imabalance even more?\n",
    "#### Let's calculate the number of minority class instances that would have been reduced"
   ]
  },
  {
   "cell_type": "code",
   "execution_count": 101,
   "metadata": {},
   "outputs": [
    {
     "name": "stdout",
     "output_type": "stream",
     "text": [
      "+---------+---------------+---------------------+---------------------+------------------+\n",
      "|  Class  |   Raw Data    |     Data Values     |     Data Values     |   Percent Drop   |\n",
      "|         |  Value Count  |   RETAINED after    |    DROPPED after    |  In Data Values  |\n",
      "|         |               |  Outlier Treatment  |  Outlier Treatment  |                  |\n",
      "+=========+===============+=====================+=====================+==================+\n",
      "| Class 0 |    284315     |       275904        |        8411         |      2.96 %      |\n",
      "+---------+---------------+---------------------+---------------------+------------------+\n",
      "| Class 1 |      492      |         442         |         50          |     10.16 %      |\n",
      "+---------+---------------+---------------------+---------------------+------------------+\n"
     ]
    }
   ],
   "source": [
    "check_class_distribution_on_handling_outlier(series_name='V23', quantile_val_low=0.01, quantile_val_high=1.00)"
   ]
  },
  {
   "cell_type": "markdown",
   "metadata": {},
   "source": [
    "#### Here, we see that number of minority class values will go down by 10% if we treat outliers and drop them and since minority class values are so low, we cannot afford to drop these many values at once.\n",
    "#### Thus we, will continue to keep these outliers"
   ]
  },
  {
   "cell_type": "markdown",
   "metadata": {},
   "source": [
    "## 4.28. V24"
   ]
  },
  {
   "cell_type": "code",
   "execution_count": 102,
   "metadata": {},
   "outputs": [
    {
     "data": {
      "text/plain": [
       "count    279138.000000\n",
       "mean         -0.000200\n",
       "std           0.604703\n",
       "min          -2.836627\n",
       "0%           -2.836627\n",
       "10%          -0.870075\n",
       "20%          -0.443879\n",
       "30%          -0.264100\n",
       "40%          -0.045543\n",
       "50%           0.040879\n",
       "60%           0.165369\n",
       "70%           0.374026\n",
       "80%           0.531929\n",
       "90%           0.704996\n",
       "100%          4.022866\n",
       "max           4.022866\n",
       "Name: V24, dtype: float64"
      ]
     },
     "execution_count": 102,
     "metadata": {},
     "output_type": "execute_result"
    }
   ],
   "source": [
    "raw_data.V24.describe(percentiles=np.linspace(0, 1, 11))"
   ]
  },
  {
   "cell_type": "code",
   "execution_count": 103,
   "metadata": {},
   "outputs": [
    {
     "data": {
      "image/png": "[encoded data removed]",
      "text/plain": [
       "<Figure size 1152x360 with 1 Axes>"
      ]
     },
     "metadata": {},
     "output_type": "display_data"
    }
   ],
   "source": [
    "plot_box_graph(series=raw_data.V24)"
   ]
  },
  {
   "cell_type": "markdown",
   "metadata": {},
   "source": [
    "#### In the above graph, we see that the graph is highly skewed towards right side (i.e. Positive Skewed)\n",
    "#### In such cases, the better approach is dropping off outliers which is highly impacting this skewed behaviour\n",
    "#### In normal outlier detection process, we can afford to drop these rows.\n",
    "#### But since we have an imbalanced data set, we need to see if these outlier removal process is impacting class imabalance even more?\n",
    "#### Let's calculate the number of minority class instances that would have been reduced"
   ]
  },
  {
   "cell_type": "code",
   "execution_count": 104,
   "metadata": {},
   "outputs": [
    {
     "name": "stdout",
     "output_type": "stream",
     "text": [
      "+---------+---------------+---------------------+---------------------+------------------+\n",
      "|  Class  |   Raw Data    |     Data Values     |     Data Values     |   Percent Drop   |\n",
      "|         |  Value Count  |   RETAINED after    |    DROPPED after    |  In Data Values  |\n",
      "|         |               |  Outlier Treatment  |  Outlier Treatment  |                  |\n",
      "+=========+===============+=====================+=====================+==================+\n",
      "| Class 0 |    284315     |       275863        |        8452         |      2.97 %      |\n",
      "+---------+---------------+---------------------+---------------------+------------------+\n",
      "| Class 1 |      492      |         483         |          9          |      1.83 %      |\n",
      "+---------+---------------+---------------------+---------------------+------------------+\n"
     ]
    }
   ],
   "source": [
    "check_class_distribution_on_handling_outlier(series_name='V24', quantile_val_low=0.0, quantile_val_high=0.99)"
   ]
  },
  {
   "cell_type": "markdown",
   "metadata": {},
   "source": [
    "#### Here, we see that number of minority class values will go down by 1.8%\n",
    "#### Therefore we can drop these values"
   ]
  },
  {
   "cell_type": "code",
   "execution_count": 105,
   "metadata": {},
   "outputs": [],
   "source": [
    "raw_data = raw_data[\n",
    "    (raw_data['V24'] >= raw_data['V24'].quantile(0.0)) & \n",
    "    (raw_data['V24'] <= raw_data['V24'].quantile(0.99))\n",
    "]"
   ]
  },
  {
   "cell_type": "markdown",
   "metadata": {},
   "source": [
    "## 4.29. V25"
   ]
  },
  {
   "cell_type": "code",
   "execution_count": 107,
   "metadata": {},
   "outputs": [
    {
     "data": {
      "text/plain": [
       "count    276346.000000\n",
       "mean         -0.003232\n",
       "std           0.504381\n",
       "min          -4.930750\n",
       "0%           -4.930750\n",
       "10%          -0.600389\n",
       "20%          -0.389998\n",
       "30%          -0.258563\n",
       "40%          -0.130478\n",
       "50%           0.013253\n",
       "60%           0.155043\n",
       "70%           0.280808\n",
       "80%           0.412698\n",
       "90%           0.590679\n",
       "100%          2.791635\n",
       "max           2.791635\n",
       "Name: V25, dtype: float64"
      ]
     },
     "execution_count": 107,
     "metadata": {},
     "output_type": "execute_result"
    }
   ],
   "source": [
    "raw_data.V25.describe(percentiles=np.linspace(0, 1, 11))"
   ]
  },
  {
   "cell_type": "code",
   "execution_count": 108,
   "metadata": {},
   "outputs": [
    {
     "data": {
      "image/png": "[encoded data removed]",
      "text/plain": [
       "<Figure size 1152x360 with 1 Axes>"
      ]
     },
     "metadata": {},
     "output_type": "display_data"
    }
   ],
   "source": [
    "plot_box_graph(series=raw_data.V25)"
   ]
  },
  {
   "cell_type": "markdown",
   "metadata": {},
   "source": [
    "#### In the above graph, we see that the graph is highly skewed towards left side (i.e. Negative Skewed)\n",
    "#### In such cases, the better approach is dropping off outliers which is highly impacting this skewed behaviour\n",
    "#### In normal outlier detection process, we can afford to drop these rows.\n",
    "#### But since we have an imbalanced data set, we need to see if these outlier removal process is impacting class imabalance even more?\n",
    "#### Let's calculate the number of minority class instances that would have been reduced"
   ]
  },
  {
   "cell_type": "code",
   "execution_count": 109,
   "metadata": {},
   "outputs": [
    {
     "name": "stdout",
     "output_type": "stream",
     "text": [
      "+---------+---------------+---------------------+---------------------+------------------+\n",
      "|  Class  |   Raw Data    |     Data Values     |     Data Values     |   Percent Drop   |\n",
      "|         |  Value Count  |   RETAINED after    |    DROPPED after    |  In Data Values  |\n",
      "|         |               |  Outlier Treatment  |  Outlier Treatment  |                  |\n",
      "+=========+===============+=====================+=====================+==================+\n",
      "| Class 0 |    284315     |       273126        |        11189        |      3.94 %      |\n",
      "+---------+---------------+---------------------+---------------------+------------------+\n",
      "| Class 1 |      492      |         456         |         36          |      7.32 %      |\n",
      "+---------+---------------+---------------------+---------------------+------------------+\n"
     ]
    }
   ],
   "source": [
    "check_class_distribution_on_handling_outlier(series_name='V25', quantile_val_low=0.01, quantile_val_high=1.00)"
   ]
  },
  {
   "cell_type": "markdown",
   "metadata": {},
   "source": [
    "#### Here, we see that number of minority class values will go down by 7% if we treat outliers and drop them and since minority class values are so low, we cannot afford to drop these many values at once.\n",
    "#### Thus we, will continue to keep these outliers"
   ]
  },
  {
   "cell_type": "markdown",
   "metadata": {},
   "source": [
    "## 4.30. V26"
   ]
  },
  {
   "cell_type": "code",
   "execution_count": 110,
   "metadata": {},
   "outputs": [
    {
     "data": {
      "text/plain": [
       "count    276346.000000\n",
       "mean         -0.001413\n",
       "std           0.479847\n",
       "min          -1.855355\n",
       "0%           -1.855355\n",
       "10%          -0.546450\n",
       "20%          -0.388848\n",
       "30%          -0.274813\n",
       "40%          -0.166962\n",
       "50%          -0.053530\n",
       "60%           0.085690\n",
       "70%           0.173747\n",
       "80%           0.353791\n",
       "90%           0.683632\n",
       "100%          3.517346\n",
       "max           3.517346\n",
       "Name: V26, dtype: float64"
      ]
     },
     "execution_count": 110,
     "metadata": {},
     "output_type": "execute_result"
    }
   ],
   "source": [
    "raw_data.V26.describe(percentiles=np.linspace(0, 1, 11))"
   ]
  },
  {
   "cell_type": "code",
   "execution_count": 111,
   "metadata": {},
   "outputs": [
    {
     "data": {
      "image/png": "[encoded data removed]",
      "text/plain": [
       "<Figure size 1152x360 with 1 Axes>"
      ]
     },
     "metadata": {},
     "output_type": "display_data"
    }
   ],
   "source": [
    "plot_box_graph(series=raw_data.V26)"
   ]
  },
  {
   "cell_type": "markdown",
   "metadata": {},
   "source": [
    "#### In the above graph, we see that the graph is highly skewed towards right side (i.e. Positive Skewed)\n",
    "#### In such cases, the better approach is dropping off outliers which is highly impacting this skewed behaviour\n",
    "#### In normal outlier detection process, we can afford to drop these rows.\n",
    "#### But since we have an imbalanced data set, we need to see if these outlier removal process is impacting class imabalance even more?\n",
    "#### Let's calculate the number of minority class instances that would have been reduced"
   ]
  },
  {
   "cell_type": "code",
   "execution_count": 112,
   "metadata": {},
   "outputs": [
    {
     "name": "stdout",
     "output_type": "stream",
     "text": [
      "+---------+---------------+---------------------+---------------------+------------------+\n",
      "|  Class  |   Raw Data    |     Data Values     |     Data Values     |   Percent Drop   |\n",
      "|         |  Value Count  |   RETAINED after    |    DROPPED after    |  In Data Values  |\n",
      "|         |               |  Outlier Treatment  |  Outlier Treatment  |                  |\n",
      "+=========+===============+=====================+=====================+==================+\n",
      "| Class 0 |    284315     |       273106        |        11209        |      3.94 %      |\n",
      "+---------+---------------+---------------------+---------------------+------------------+\n",
      "| Class 1 |      492      |         476         |         16          |      3.25 %      |\n",
      "+---------+---------------+---------------------+---------------------+------------------+\n"
     ]
    }
   ],
   "source": [
    "check_class_distribution_on_handling_outlier(series_name='V26', quantile_val_low=0.0, quantile_val_high=0.99)"
   ]
  },
  {
   "cell_type": "markdown",
   "metadata": {},
   "source": [
    "#### Here, we see that number of minority class values will go down by XXXX% if we treat outliers and drop them and since minority class values are so low, we cannot afford to drop these many values at once.\n",
    "#### Thus we, will continue to keep these outliers"
   ]
  },
  {
   "cell_type": "code",
   "execution_count": 113,
   "metadata": {},
   "outputs": [],
   "source": [
    "raw_data = raw_data[\n",
    "    (raw_data['V26'] >= raw_data['V26'].quantile(0.0)) & \n",
    "    (raw_data['V26'] <= raw_data['V26'].quantile(0.99))\n",
    "]"
   ]
  },
  {
   "cell_type": "markdown",
   "metadata": {},
   "source": [
    "## 4.31. V27"
   ]
  },
  {
   "cell_type": "code",
   "execution_count": 116,
   "metadata": {},
   "outputs": [
    {
     "data": {
      "text/plain": [
       "count    273582.000000\n",
       "mean         -0.002121\n",
       "std           0.313383\n",
       "min          -8.878665\n",
       "0%           -8.878665\n",
       "10%          -0.194201\n",
       "20%          -0.086487\n",
       "30%          -0.051504\n",
       "40%          -0.022937\n",
       "50%           0.002363\n",
       "60%           0.029501\n",
       "70%           0.062343\n",
       "80%           0.130625\n",
       "90%           0.256887\n",
       "100%          6.211230\n",
       "max           6.211230\n",
       "Name: V27, dtype: float64"
      ]
     },
     "execution_count": 116,
     "metadata": {},
     "output_type": "execute_result"
    }
   ],
   "source": [
    "raw_data.V27.describe(percentiles=np.linspace(0, 1, 11))"
   ]
  },
  {
   "cell_type": "code",
   "execution_count": 117,
   "metadata": {},
   "outputs": [
    {
     "data": {
      "image/png": "[encoded data removed]",
      "text/plain": [
       "<Figure size 1152x360 with 1 Axes>"
      ]
     },
     "metadata": {},
     "output_type": "display_data"
    }
   ],
   "source": [
    "plot_box_graph(series=raw_data.V27)"
   ]
  },
  {
   "cell_type": "markdown",
   "metadata": {},
   "source": [
    "#### In the above graph, we see that the graph is highly skewed towards left side (i.e. Negative Skewed)\n",
    "#### In such cases, the better approach is dropping off outliers which is highly impacting this skewed behaviour\n",
    "#### In normal outlier detection process, we can afford to drop these rows.\n",
    "#### But since we have an imbalanced data set, we need to see if these outlier removal process is impacting class imabalance even more?\n",
    "#### Let's calculate the number of minority class instances that would have been reduced"
   ]
  },
  {
   "cell_type": "code",
   "execution_count": 120,
   "metadata": {},
   "outputs": [
    {
     "name": "stdout",
     "output_type": "stream",
     "text": [
      "+---------+---------------+---------------------+---------------------+------------------+\n",
      "|  Class  |   Raw Data    |     Data Values     |     Data Values     |   Percent Drop   |\n",
      "|         |  Value Count  |   RETAINED after    |    DROPPED after    |  In Data Values  |\n",
      "|         |               |  Outlier Treatment  |  Outlier Treatment  |                  |\n",
      "+=========+===============+=====================+=====================+==================+\n",
      "| Class 0 |    284315     |       270426        |        13889        |      4.89 %      |\n",
      "+---------+---------------+---------------------+---------------------+------------------+\n",
      "| Class 1 |      492      |         420         |         72          |     14.63 %      |\n",
      "+---------+---------------+---------------------+---------------------+------------------+\n"
     ]
    }
   ],
   "source": [
    "check_class_distribution_on_handling_outlier(series_name='V27', quantile_val_low=0.01, quantile_val_high=1.00)"
   ]
  },
  {
   "cell_type": "markdown",
   "metadata": {},
   "source": [
    "#### Here, we see that number of minority class values will go down by 14% if we treat outliers and drop them and since minority class values are so low, we cannot afford to drop these many values at once.\n",
    "#### Thus we, will continue to keep these outliers"
   ]
  },
  {
   "cell_type": "markdown",
   "metadata": {},
   "source": [
    "## 4.32. V28"
   ]
  },
  {
   "cell_type": "code",
   "execution_count": 121,
   "metadata": {},
   "outputs": [
    {
     "data": {
      "text/plain": [
       "count    273582.000000\n",
       "mean          0.001258\n",
       "std           0.196892\n",
       "min          -8.364853\n",
       "0%           -8.364853\n",
       "10%          -0.144941\n",
       "20%          -0.063960\n",
       "30%          -0.039570\n",
       "40%          -0.011405\n",
       "50%           0.011298\n",
       "60%           0.026587\n",
       "70%           0.051615\n",
       "80%           0.098218\n",
       "90%           0.171572\n",
       "100%          5.678671\n",
       "max           5.678671\n",
       "Name: V28, dtype: float64"
      ]
     },
     "execution_count": 121,
     "metadata": {},
     "output_type": "execute_result"
    }
   ],
   "source": [
    "raw_data.V28.describe(percentiles=np.linspace(0, 1, 11))"
   ]
  },
  {
   "cell_type": "code",
   "execution_count": 122,
   "metadata": {},
   "outputs": [
    {
     "data": {
      "image/png": "[encoded data removed]",
      "text/plain": [
       "<Figure size 1152x360 with 1 Axes>"
      ]
     },
     "metadata": {},
     "output_type": "display_data"
    }
   ],
   "source": [
    "plot_box_graph(series=raw_data.V28)"
   ]
  },
  {
   "cell_type": "markdown",
   "metadata": {},
   "source": [
    "#### In the above graph, we see that the graph is highly skewed towards left side (i.e. Negative Skewed)\n",
    "#### In such cases, the better approach is dropping off outliers which is highly impacting this skewed behaviour\n",
    "#### In normal outlier detection process, we can afford to drop these rows.\n",
    "#### But since we have an imbalanced data set, we need to see if these outlier removal process is impacting class imabalance even more?\n",
    "#### Let's calculate the number of minority class instances that would have been reduced"
   ]
  },
  {
   "cell_type": "code",
   "execution_count": 125,
   "metadata": {},
   "outputs": [
    {
     "name": "stdout",
     "output_type": "stream",
     "text": [
      "+---------+---------------+---------------------+---------------------+------------------+\n",
      "|  Class  |   Raw Data    |     Data Values     |     Data Values     |   Percent Drop   |\n",
      "|         |  Value Count  |   RETAINED after    |    DROPPED after    |  In Data Values  |\n",
      "|         |               |  Outlier Treatment  |  Outlier Treatment  |                  |\n",
      "+=========+===============+=====================+=====================+==================+\n",
      "| Class 0 |    284315     |       270416        |        13899        |      4.89 %      |\n",
      "+---------+---------------+---------------------+---------------------+------------------+\n",
      "| Class 1 |      492      |         430         |         62          |      12.6 %      |\n",
      "+---------+---------------+---------------------+---------------------+------------------+\n"
     ]
    }
   ],
   "source": [
    "check_class_distribution_on_handling_outlier(series_name='V28', quantile_val_low=0.01, quantile_val_high=1.00)"
   ]
  },
  {
   "cell_type": "markdown",
   "metadata": {},
   "source": [
    "#### Here, we see that number of minority class values will go down by 12.6% if we treat outliers and drop them and since minority class values are so low, we cannot afford to drop these many values at once.\n",
    "#### Thus we, will continue to keep these outliers"
   ]
  },
  {
   "cell_type": "code",
   "execution_count": null,
   "metadata": {},
   "outputs": [],
   "source": []
  },
  {
   "cell_type": "code",
   "execution_count": null,
   "metadata": {},
   "outputs": [],
   "source": []
  }
 ],
 "metadata": {
  "kernelspec": {
   "display_name": "Python 3 (ipykernel)",
   "language": "python",
   "name": "python3"
  },
  "language_info": {
   "codemirror_mode": {
    "name": "ipython",
    "version": 3
   },
   "file_extension": ".py",
   "mimetype": "text/x-python",
   "name": "python",
   "nbconvert_exporter": "python",
   "pygments_lexer": "ipython3",
   "version": "3.8.10"
  }
 },
 "nbformat": 4,
 "nbformat_minor": 2
}
